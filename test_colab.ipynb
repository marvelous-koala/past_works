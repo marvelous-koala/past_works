{
  "nbformat": 4,
  "nbformat_minor": 0,
  "metadata": {
    "colab": {
      "name": "test_colab.ipynb",
      "provenance": [],
      "collapsed_sections": [],
      "toc_visible": true,
      "authorship_tag": "ABX9TyOODYb5dEhdQeVNaOTFPn8+",
      "include_colab_link": true
    },
    "kernelspec": {
      "name": "python3",
      "display_name": "Python 3"
    }
  },
  "cells": [
    {
      "cell_type": "markdown",
      "metadata": {
        "id": "view-in-github",
        "colab_type": "text"
      },
      "source": [
        "<a href=\"https://colab.research.google.com/github/marvelous-koala/past_works/blob/master/test_colab.ipynb\" target=\"_parent\"><img src=\"https://colab.research.google.com/assets/colab-badge.svg\" alt=\"Open In Colab\"/></a>"
      ]
    },
    {
      "cell_type": "code",
      "metadata": {
        "colab": {
          "base_uri": "https://localhost:8080/"
        },
        "id": "kUjyBdIjivoc",
        "outputId": "e9c3ccab-d9aa-4ac2-a181-739ace97c7f2"
      },
      "source": [
        "print('Hello world')"
      ],
      "execution_count": 1,
      "outputs": [
        {
          "output_type": "stream",
          "text": [
            "Hello world\n"
          ],
          "name": "stdout"
        }
      ]
    },
    {
      "cell_type": "code",
      "metadata": {
        "colab": {
          "base_uri": "https://localhost:8080/"
        },
        "id": "xKsRrUEAjsKa",
        "outputId": "2c259eff-8b65-4b49-9a28-737c30762791"
      },
      "source": [
        "import pandas as pd\r\n",
        "from google.colab import drive\r\n",
        "drive.mount('/content/drive')"
      ],
      "execution_count": 2,
      "outputs": [
        {
          "output_type": "stream",
          "text": [
            "Mounted at /content/drive\n"
          ],
          "name": "stdout"
        }
      ]
    },
    {
      "cell_type": "code",
      "metadata": {
        "id": "0xiB7UDQj9k7"
      },
      "source": [
        "raw_data = pd.read_csv('/content/drive/MyDrive/Jupyter/unlimitied_power/raw_data/train/train.csv')"
      ],
      "execution_count": 6,
      "outputs": []
    },
    {
      "cell_type": "code",
      "metadata": {
        "colab": {
          "base_uri": "https://localhost:8080/"
        },
        "id": "qRVslAsak5Al",
        "outputId": "96a3a446-ee26-42fc-914f-bb3be7c41a37"
      },
      "source": [
        "raw_data.info()"
      ],
      "execution_count": 7,
      "outputs": [
        {
          "output_type": "stream",
          "text": [
            "<class 'pandas.core.frame.DataFrame'>\n",
            "RangeIndex: 52560 entries, 0 to 52559\n",
            "Data columns (total 9 columns):\n",
            " #   Column  Non-Null Count  Dtype  \n",
            "---  ------  --------------  -----  \n",
            " 0   Day     52560 non-null  int64  \n",
            " 1   Hour    52560 non-null  int64  \n",
            " 2   Minute  52560 non-null  int64  \n",
            " 3   DHI     52560 non-null  int64  \n",
            " 4   DNI     52560 non-null  int64  \n",
            " 5   WS      52560 non-null  float64\n",
            " 6   RH      52560 non-null  float64\n",
            " 7   T       52560 non-null  int64  \n",
            " 8   TARGET  52560 non-null  float64\n",
            "dtypes: float64(3), int64(6)\n",
            "memory usage: 3.6 MB\n"
          ],
          "name": "stdout"
        }
      ]
    }
  ]
}