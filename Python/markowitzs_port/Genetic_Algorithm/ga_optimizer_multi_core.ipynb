{
 "cells": [
  {
   "cell_type": "code",
   "execution_count": 1,
   "metadata": {},
   "outputs": [],
   "source": [
    "# 라이브러리 불러오기\n",
    "\n",
    "import pandas as pd\n",
    "from pandas import read_csv\n",
    "from datetime import datetime\n",
    "from matplotlib import pyplot\n",
    "from pandas import DataFrame\n",
    "from pandas import concat\n",
    "from math import sqrt\n",
    "from numpy import concatenate\n",
    "from sklearn.metrics import mean_squared_error\n",
    "from matplotlib import pyplot as plt\n",
    "import numpy as np\n",
    "\n",
    "from datetime import datetime  \n",
    "from datetime import timedelta\n",
    "from datetime import date \n",
    "import math\n",
    "from geneticalgorithm import geneticalgorithm as ga"
   ]
  },
  {
   "cell_type": "code",
   "execution_count": 2,
   "metadata": {},
   "outputs": [],
   "source": [
    "# 파일 소환\n",
    "\n",
    "import os\n",
    "path_dir = \"./Preds/\"\n",
    "file_list = os.listdir(path_dir)"
   ]
  },
  {
   "cell_type": "code",
   "execution_count": 3,
   "metadata": {},
   "outputs": [
    {
     "data": {
      "text/plain": [
       "['EW_pred.xlsx',\n",
       " 'IVV_pred.xlsx',\n",
       " 'PSQ_pred.xlsx',\n",
       " 'QLD_pred.xlsx',\n",
       " 'SDOW_pred.xlsx',\n",
       " 'SH_pred.xlsx',\n",
       " 'TYO_pred.xlsx',\n",
       " 'UWM_pred.xlsx',\n",
       " 'XLB_pred.xlsx',\n",
       " 'XLF_pred.xlsx',\n",
       " 'XLK_pred.xlsx',\n",
       " 'XLU_pred.xlsx',\n",
       " 'XLV_pred.xlsx',\n",
       " 'XRT_pred.xlsx']"
      ]
     },
     "execution_count": 3,
     "metadata": {},
     "output_type": "execute_result"
    }
   ],
   "source": [
    "file_list\n",
    "\n",
    "# 레버리지 UWM, TYO, QLD, SDOW 4번째, 5번째, 7번째, 8번째"
   ]
  },
  {
   "cell_type": "code",
   "execution_count": 4,
   "metadata": {},
   "outputs": [
    {
     "data": {
      "text/plain": [
       "['EW',\n",
       " 'IVV',\n",
       " 'PSQ',\n",
       " 'QLD',\n",
       " 'SDOW',\n",
       " 'SH',\n",
       " 'TYO',\n",
       " 'UWM',\n",
       " 'XLB',\n",
       " 'XLF',\n",
       " 'XLK',\n",
       " 'XLU',\n",
       " 'XLV',\n",
       " 'XRT']"
      ]
     },
     "execution_count": 4,
     "metadata": {},
     "output_type": "execute_result"
    }
   ],
   "source": [
    "# 보기 편하게 이름만 남기기\n",
    "\n",
    "name_list = []\n",
    "\n",
    "for i in range(0, len(file_list)):\n",
    "    name = file_list[i].split('_')[0]\n",
    "    name_list.append(name)\n",
    "name_list"
   ]
  },
  {
   "cell_type": "code",
   "execution_count": 5,
   "metadata": {},
   "outputs": [],
   "source": [
    "# ETF 불러오기\n",
    "etfs = [[] for i in range(0,len(file_list))]\n",
    "\n",
    "for i in range(0, len(file_list)):\n",
    "    file_name = path_dir + '/' + file_list[i]\n",
    "    etfs[i] = pd.read_excel(file_name, delimiter=',')\n",
    "    etfs[i].columns = [name_list[i]+' 날짜', name_list[i] ,'예측가']\n",
    "    etfs[i][name_list[i]+' 날짜'] = pd.to_datetime(etfs[i][name_list[i]+' 날짜'])\n",
    "    etfs[i].set_index(name_list[i]+' 날짜', inplace = True)"
   ]
  },
  {
   "cell_type": "code",
   "execution_count": 6,
   "metadata": {},
   "outputs": [],
   "source": [
    "# 수익률 계산을 위한 SP500 소환\n",
    "sp500 = pd.read_csv('./sp500.csv')\n",
    "sp500['Date'] = pd.to_datetime(sp500['Date'])\n",
    "sp500.set_index('Date', inplace=True)"
   ]
  },
  {
   "cell_type": "code",
   "execution_count": 7,
   "metadata": {},
   "outputs": [
    {
     "data": {
      "text/html": [
       "<div>\n",
       "<style scoped>\n",
       "    .dataframe tbody tr th:only-of-type {\n",
       "        vertical-align: middle;\n",
       "    }\n",
       "\n",
       "    .dataframe tbody tr th {\n",
       "        vertical-align: top;\n",
       "    }\n",
       "\n",
       "    .dataframe thead th {\n",
       "        text-align: right;\n",
       "    }\n",
       "</style>\n",
       "<table border=\"1\" class=\"dataframe\">\n",
       "  <thead>\n",
       "    <tr style=\"text-align: right;\">\n",
       "      <th></th>\n",
       "      <th>IVV</th>\n",
       "      <th>예측가</th>\n",
       "    </tr>\n",
       "    <tr>\n",
       "      <th>IVV 날짜</th>\n",
       "      <th></th>\n",
       "      <th></th>\n",
       "    </tr>\n",
       "  </thead>\n",
       "  <tbody>\n",
       "    <tr>\n",
       "      <th>2019-11-26</th>\n",
       "      <td>0.817474</td>\n",
       "      <td>0.000000</td>\n",
       "    </tr>\n",
       "    <tr>\n",
       "      <th>2019-11-27</th>\n",
       "      <td>0.823068</td>\n",
       "      <td>0.000000</td>\n",
       "    </tr>\n",
       "    <tr>\n",
       "      <th>2019-11-29</th>\n",
       "      <td>0.818688</td>\n",
       "      <td>0.000000</td>\n",
       "    </tr>\n",
       "    <tr>\n",
       "      <th>2019-12-02</th>\n",
       "      <td>0.712665</td>\n",
       "      <td>0.000000</td>\n",
       "    </tr>\n",
       "    <tr>\n",
       "      <th>2019-12-03</th>\n",
       "      <td>0.734930</td>\n",
       "      <td>0.662277</td>\n",
       "    </tr>\n",
       "    <tr>\n",
       "      <th>...</th>\n",
       "      <td>...</td>\n",
       "      <td>...</td>\n",
       "    </tr>\n",
       "    <tr>\n",
       "      <th>2020-09-14</th>\n",
       "      <td>0.927391</td>\n",
       "      <td>0.880756</td>\n",
       "    </tr>\n",
       "    <tr>\n",
       "      <th>2020-09-15</th>\n",
       "      <td>0.933866</td>\n",
       "      <td>0.941595</td>\n",
       "    </tr>\n",
       "    <tr>\n",
       "      <th>2020-09-16</th>\n",
       "      <td>0.928776</td>\n",
       "      <td>0.952268</td>\n",
       "    </tr>\n",
       "    <tr>\n",
       "      <th>2020-09-17</th>\n",
       "      <td>0.917847</td>\n",
       "      <td>0.941686</td>\n",
       "    </tr>\n",
       "    <tr>\n",
       "      <th>2020-09-18</th>\n",
       "      <td>0.903064</td>\n",
       "      <td>0.932151</td>\n",
       "    </tr>\n",
       "  </tbody>\n",
       "</table>\n",
       "<p>205 rows × 2 columns</p>\n",
       "</div>"
      ],
      "text/plain": [
       "                 IVV       예측가\n",
       "IVV 날짜                        \n",
       "2019-11-26  0.817474  0.000000\n",
       "2019-11-27  0.823068  0.000000\n",
       "2019-11-29  0.818688  0.000000\n",
       "2019-12-02  0.712665  0.000000\n",
       "2019-12-03  0.734930  0.662277\n",
       "...              ...       ...\n",
       "2020-09-14  0.927391  0.880756\n",
       "2020-09-15  0.933866  0.941595\n",
       "2020-09-16  0.928776  0.952268\n",
       "2020-09-17  0.917847  0.941686\n",
       "2020-09-18  0.903064  0.932151\n",
       "\n",
       "[205 rows x 2 columns]"
      ]
     },
     "execution_count": 7,
     "metadata": {},
     "output_type": "execute_result"
    }
   ],
   "source": [
    "etfs[1]"
   ]
  },
  {
   "cell_type": "code",
   "execution_count": 8,
   "metadata": {},
   "outputs": [],
   "source": [
    "############ 핵심변수, 계산의 기준이 되는 날짜 선정 ############\n",
    "\n",
    "target_day = date(2020,1,3)"
   ]
  },
  {
   "cell_type": "code",
   "execution_count": 9,
   "metadata": {},
   "outputs": [],
   "source": [
    "ini_date = np.array([target_day]*(len(file_list)+1))"
   ]
  },
  {
   "cell_type": "code",
   "execution_count": 10,
   "metadata": {
    "scrolled": true
   },
   "outputs": [
    {
     "data": {
      "text/plain": [
       "datetime.date(2020, 1, 3)"
      ]
     },
     "execution_count": 10,
     "metadata": {},
     "output_type": "execute_result"
    }
   ],
   "source": [
    "ini_date[2]"
   ]
  },
  {
   "cell_type": "code",
   "execution_count": 11,
   "metadata": {},
   "outputs": [],
   "source": [
    "############## 기준 날짜를 데이터 프레임 상의 서열(\"위에서 n 번째\")로 전환\n",
    "# 날짜변수 ETF 14개 + SP500 총 15개의 서열 변수로 전환\n",
    "\n",
    "\n",
    "\n",
    "# ETF 서열 변수\n",
    "for k in range(0, len(file_list)):\n",
    "    ini_date[k] = etfs[k].index.get_loc(ini_date[k].isoformat())\n",
    "    \n",
    "# SP500 서열변수\n",
    "    \n",
    "target_number = sp500.index.get_loc(target_day.isoformat())\n",
    "ini_date[-1] = target_number\n",
    "\n",
    "ini_date[2] =27\n",
    "ini_date[12] =27"
   ]
  },
  {
   "cell_type": "code",
   "execution_count": 12,
   "metadata": {},
   "outputs": [
    {
     "data": {
      "text/html": [
       "<div>\n",
       "<style scoped>\n",
       "    .dataframe tbody tr th:only-of-type {\n",
       "        vertical-align: middle;\n",
       "    }\n",
       "\n",
       "    .dataframe tbody tr th {\n",
       "        vertical-align: top;\n",
       "    }\n",
       "\n",
       "    .dataframe thead th {\n",
       "        text-align: right;\n",
       "    }\n",
       "</style>\n",
       "<table border=\"1\" class=\"dataframe\">\n",
       "  <thead>\n",
       "    <tr style=\"text-align: right;\">\n",
       "      <th>name</th>\n",
       "      <th>EW</th>\n",
       "      <th>IVV</th>\n",
       "      <th>PSQ</th>\n",
       "      <th>QLD</th>\n",
       "      <th>SDOW</th>\n",
       "      <th>SH</th>\n",
       "      <th>TYO</th>\n",
       "      <th>UWM</th>\n",
       "      <th>XLB</th>\n",
       "      <th>XLF</th>\n",
       "      <th>XLK</th>\n",
       "      <th>XLU</th>\n",
       "      <th>XLV</th>\n",
       "      <th>XRT</th>\n",
       "    </tr>\n",
       "  </thead>\n",
       "  <tbody>\n",
       "    <tr>\n",
       "      <th>ratio</th>\n",
       "      <td>0.071429</td>\n",
       "      <td>0.071429</td>\n",
       "      <td>0.071429</td>\n",
       "      <td>0.071429</td>\n",
       "      <td>0.071429</td>\n",
       "      <td>0.071429</td>\n",
       "      <td>0.071429</td>\n",
       "      <td>0.071429</td>\n",
       "      <td>0.071429</td>\n",
       "      <td>0.071429</td>\n",
       "      <td>0.071429</td>\n",
       "      <td>0.071429</td>\n",
       "      <td>0.071429</td>\n",
       "      <td>0.071429</td>\n",
       "    </tr>\n",
       "  </tbody>\n",
       "</table>\n",
       "</div>"
      ],
      "text/plain": [
       "name         EW       IVV       PSQ       QLD      SDOW        SH       TYO  \\\n",
       "ratio  0.071429  0.071429  0.071429  0.071429  0.071429  0.071429  0.071429   \n",
       "\n",
       "name        UWM       XLB       XLF       XLK       XLU       XLV       XRT  \n",
       "ratio  0.071429  0.071429  0.071429  0.071429  0.071429  0.071429  0.071429  "
      ]
     },
     "execution_count": 12,
     "metadata": {},
     "output_type": "execute_result"
    }
   ],
   "source": [
    "# 돌아가는지 보기위한 Sample 비율 생성\n",
    "# 14 종목에 균등하게 투자\n",
    "\n",
    "ratio = [[1/len(name_list)]*len(name_list)]\n",
    "test_dict = dict(zip(name_list, ratio[0]))\n",
    "test_x = pd.DataFrame(test_dict.items(), columns=['name', 'ratio'])\n",
    "test_x.set_index('name', inplace=True)\n",
    "test_x = test_x.transpose()\n",
    "list_x = list(test_x.values[0])\n",
    "test_x"
   ]
  },
  {
   "cell_type": "code",
   "execution_count": 13,
   "metadata": {},
   "outputs": [],
   "source": [
    "## 공분산 계산기\n",
    "def cov_maker(ratio, ini_date):\n",
    "    df = pd.DataFrame()\n",
    "\n",
    "    for k in range(0, len(file_list)):\n",
    "        \n",
    "        # 원하는 날짜의 위치를 불러온다\n",
    "        cov_end = ini_date[k]\n",
    "\n",
    "        # 20일 간의 공분산이므로 날짜에서 20일 뺴서 [20일 전 ~ 어제까지 범위가 되게 한다]\n",
    "        cov_start = cov_end - 20\n",
    "\n",
    "        cov_test = etfs[k].iloc[cov_start : cov_end, :]\n",
    "        \n",
    "        # 실제 가격을 기준으로 한 공분산이므로 '예측가'는 drop으로 치워준다\n",
    "        cov_test = cov_test.drop('예측가', axis=1)\n",
    "        df = pd.concat([df, cov_test], axis =1)\n",
    "\n",
    "    coval = df.cov()\n",
    "    covs1 = test_x.dot(coval)\n",
    "    cova2 = covs1.dot(ratio.transpose())\n",
    "    return cova2.values[0][0]"
   ]
  },
  {
   "cell_type": "code",
   "execution_count": 14,
   "metadata": {
    "scrolled": true
   },
   "outputs": [
    {
     "data": {
      "text/plain": [
       "0.00036001439613960113"
      ]
     },
     "execution_count": 14,
     "metadata": {},
     "output_type": "execute_result"
    }
   ],
   "source": [
    "# 돌아가는지 확인한다.\n",
    "# 현재 Target_day가 20년 1월 3일이므로, 1월 2일까지 20일간의 데이터를 불러와 공분산행렬 생성\n",
    "cov_maker(test_x, ini_date)"
   ]
  },
  {
   "cell_type": "code",
   "execution_count": 15,
   "metadata": {},
   "outputs": [],
   "source": [
    "## ETF 예상 수익률 계산기\n",
    "def profit_maker(ratio, ini_date):\n",
    "    profits = []\n",
    "    \n",
    "    # 오늘 실제 가격은 0번 column에 내일 예측가는 1번 컬럼에 있다.\n",
    "    for k in range(0, len(file_list)):\n",
    "        current_pri = etfs[k].iloc[ini_date[k],0]\n",
    "        pred_pri = etfs[k].iloc[ini_date[k]+1,1]    \n",
    "        # [(내일 예측가격) - (실제가격)] / (실제가격) == 수익률!\n",
    "        profit = (pred_pri - current_pri)/current_pri\n",
    "        profits.append(profit)\n",
    "    \n",
    "    # 종목별로 수익률 구해서 Dataframe에 예쁘게 정리\n",
    "    profit_db = pd.DataFrame(profits, index=name_list)\n",
    "    \n",
    "    # 14개 종목 * 14개 종목 별 비율 곱해서 최종 합산 수익률\n",
    "    exp_profit = ratio.dot(profit_db)\n",
    "    exp_profit = exp_profit[0][0]\n",
    "    return exp_profit"
   ]
  },
  {
   "cell_type": "code",
   "execution_count": 16,
   "metadata": {},
   "outputs": [
    {
     "data": {
      "text/plain": [
       "array([24, 25, 27, 34, 28, 27, 41, 39, 27, 27, 27, 27, 27, 27, 17],\n",
       "      dtype=object)"
      ]
     },
     "execution_count": 16,
     "metadata": {},
     "output_type": "execute_result"
    }
   ],
   "source": [
    "ini_date"
   ]
  },
  {
   "cell_type": "code",
   "execution_count": 17,
   "metadata": {},
   "outputs": [],
   "source": [
    "### SP500 수익률 예상하기\n",
    "# 지난 2일의 수익률이 필요하므로 지난 3일의 자료를 target_length로 설정\n",
    "\n",
    "def sp500_maker(ini_date):\n",
    "    target_length = 3\n",
    "    sp500_profit = []\n",
    "\n",
    "    # 1월 2일까지의 수익률 예측이므로 12월 30일, 12월 13일, 1월 2일의 가격 불러오기\n",
    "    sp_data = sp500.iloc[ini_date[-1]-target_length : ini_date[-1],:]\n",
    "    \n",
    "    for i in range(0, target_length-1):\n",
    "        \n",
    "        # 30일과 31일의 차이 = 수익률1 /// 31일과 2일의 차이 = 수익률2\n",
    "        incre = (sp_data.iloc[i+1,0]-sp_data.iloc[i,0])/sp_data.iloc[i,0]\n",
    "        sp500_profit.append(incre)\n",
    "\n",
    "    # 수익률 이므로 평균\n",
    "    avg = sum(sp500_profit)/len(sp500_profit)\n",
    "    return(avg)"
   ]
  },
  {
   "cell_type": "code",
   "execution_count": 18,
   "metadata": {},
   "outputs": [],
   "source": [
    "# 페널티 설정\n",
    "# 페널티 1, 14개 종목의 합이 1이 넘거나 적으면 안됨.\n",
    "\n",
    "def pen_1(X):\n",
    "    pen = 0\n",
    "    \n",
    "    # 1을 넘거나 안되면 페널티 \"1\" 부여\n",
    "    if np.sum(X) > 1.0001:\n",
    "        pen += 10\n",
    "    elif np.sum(X) < 0.9999:\n",
    "        pen += 10\n",
    "    \n",
    "    return pen"
   ]
  },
  {
   "cell_type": "code",
   "execution_count": 19,
   "metadata": {},
   "outputs": [],
   "source": [
    "# 페널티 2, 레버리지 4 종목의 합은 10%를 넘을 수 없다.\n",
    "\n",
    "# 레버리지는 ratio 리스트의 4번째, 5번째, 7번째, 8번째에 위치\n",
    "\n",
    "def pen_2(ratio):\n",
    "    \n",
    "    pen = 0\n",
    "    target = ratio[3] + ratio[4] + ratio[6] + ratio[7]\n",
    "    \n",
    "    # 0.15 = 10%를 넘으면 페널티 부여\n",
    "    if 0.2 >= target >= 0.10:\n",
    "        pen += 1\n",
    "    elif target > 0.2:\n",
    "        pen += 3\n",
    "    return pen "
   ]
  },
  {
   "cell_type": "code",
   "execution_count": 20,
   "metadata": {},
   "outputs": [],
   "source": [
    "# 페널티 3, 수익률은 상승장에서 SP500의 1.2배 이상, 하락장에서 0.8배 손실까지 허용\n",
    "\n",
    "def pen_3(ratio, ini_date):\n",
    "    \n",
    "    etf_profit = profit_maker(ratio, ini_date)\n",
    "    sp500_profit = sp500_maker(ini_date)\n",
    "    pen = 0\n",
    "    \n",
    "    # 상승장의 경우\n",
    "    if sp500_profit >= 0 and sp500_profit * 1.2 > etf_profit:\n",
    "        pen += 2\n",
    "    \n",
    "    # 하락장의 경우\n",
    "    elif sp500_profit < 0 and sp500_profit * 0.8 < etf_profit:\n",
    "        pen += 2\n",
    "    return pen"
   ]
  },
  {
   "cell_type": "code",
   "execution_count": 21,
   "metadata": {},
   "outputs": [],
   "source": [
    "############################## 목적함수 설정 ##############################\n",
    "\n",
    "# 유전알고리즘(GA)는 여기서 나오는 값을 \"최소화\"하려고 함\n",
    "# 공분산의 최소화 이므로 주된 목적함수는 공분산이며, 여기에 제약조건을 지키지 못하면 페널티 부여\n",
    "# 값을 최소화 하려 하므로 페널티를 피하는 방향으로 최적화가 진행됨\n",
    "\n",
    "\n",
    "def f(X):\n",
    "    \n",
    "    object = 0\n",
    "    pen1 = 0\n",
    "    pen2 = 0\n",
    "    pen3 = 0\n",
    "      \n",
    "    # 14개 비율을 일단 리스트로 만들기\n",
    "    x_list = X\n",
    "    \n",
    "    # 공분산 계산을 위해 데이터 프레임으로 전환\n",
    "    test_x = pd.DataFrame(x_list , index=name_list).transpose()\n",
    "\n",
    "    # 페널티 1 + 2 + 3\n",
    "    pen1 += pen_1(X)\n",
    "    pen2 += pen_2(x_list)\n",
    "    pen3 += pen_3(test_x, ini_date)\n",
    "    \n",
    "    # 공분산\n",
    "    object = cov_maker(test_x, ini_date)\n",
    "    \n",
    "    ######### 공분산 + 페널티 1 + 페널티 2 + 페널티 3의 값을 반환 (== 목적함수) #######\n",
    "    return object + pen1 + pen2 + pen3"
   ]
  },
  {
   "cell_type": "code",
   "execution_count": 22,
   "metadata": {},
   "outputs": [],
   "source": [
    "def ga_optimizer(ini_date, days):\n",
    "    \n",
    "    algorithm_param = {'max_num_iteration': 2,\n",
    "                   'population_size':100,\n",
    "                   'mutation_probability':0.1,\n",
    "                   'elit_ratio': 0.01,\n",
    "                   'crossover_probability': 0.5,\n",
    "                   'parents_portion': 0.3,\n",
    "                   'crossover_type':'uniform',\n",
    "                   'max_iteration_without_improv':100}\n",
    "\n",
    "    varbound = np.array([[0,0.3]]*14)\n",
    "    ini_date = ini_date\n",
    "\n",
    "\n",
    "    model=ga(function=f,dimension=14,variable_type='real',variable_boundaries=varbound, algorithm_parameters=algorithm_param)\n",
    "\n",
    "    model.run()\n",
    "\n",
    "    result = model.output_dict['variable']\n",
    "\n",
    "    opt = pd.DataFrame(result , index=name_list)\n",
    "    opt.columns = [days]\n",
    "\n",
    "    print('비율의 합')\n",
    "    print(result.sum())\n",
    "    \n",
    "    return opt"
   ]
  },
  {
   "cell_type": "code",
   "execution_count": 23,
   "metadata": {},
   "outputs": [],
   "source": [
    "varbound = np.array([[0,0.3]]*14)"
   ]
  },
  {
   "cell_type": "code",
   "execution_count": 24,
   "metadata": {},
   "outputs": [
    {
     "data": {
      "text/plain": [
       "array([0. , 0.3])"
      ]
     },
     "execution_count": 24,
     "metadata": {},
     "output_type": "execute_result"
    }
   ],
   "source": [
    "varbound[2]"
   ]
  },
  {
   "cell_type": "code",
   "execution_count": 25,
   "metadata": {
    "scrolled": true
   },
   "outputs": [],
   "source": [
    "def run_ga(ini_date):\n",
    "\n",
    "    result_df = pd.DataFrame()\n",
    "    days = 0\n",
    "    until =1\n",
    "\n",
    "    while days < per_core:\n",
    "\n",
    "        print('{0}일 중 {1}일 진행중'.format(until, days+1))\n",
    "        sp500_profit = sp500_maker(ini_date)    \n",
    "        ga_df = ga_optimizer(ini_date, days)\n",
    "        result_df = pd.concat([result_df, ga_df], axis=1)\n",
    "\n",
    "\n",
    "        ini_date += 1\n",
    "        days += 1\n",
    "    print(result_df)\n",
    "    return result_df"
   ]
  },
  {
   "cell_type": "code",
   "execution_count": 26,
   "metadata": {},
   "outputs": [],
   "source": [
    "ini_date = np.array([target_day]*(len(file_list)+1))\n",
    "\n",
    "for k in range(0, len(file_list)):\n",
    "    ini_date[k] = etfs[k].index.get_loc(ini_date[k].isoformat())\n",
    "    \n",
    "target_number = sp500.index.get_loc(target_day.isoformat())\n",
    "ini_date[-1] = target_number"
   ]
  },
  {
   "cell_type": "code",
   "execution_count": 27,
   "metadata": {},
   "outputs": [
    {
     "data": {
      "text/plain": [
       "array([24, 25, array([27], dtype=int64), 34, 28, 27, 41, 39, 27, 27, 27,\n",
       "       27, array([27], dtype=int64), 27, 17], dtype=object)"
      ]
     },
     "execution_count": 27,
     "metadata": {},
     "output_type": "execute_result"
    }
   ],
   "source": [
    "ini_date"
   ]
  },
  {
   "cell_type": "code",
   "execution_count": 28,
   "metadata": {},
   "outputs": [],
   "source": [
    "import time, os\n",
    "from multiprocessing import Pool\n",
    "import multiprocessing as mp\n",
    "from multiprocessing import Process\n",
    "cores = mp.cpu_count()"
   ]
  },
  {
   "cell_type": "code",
   "execution_count": 29,
   "metadata": {
    "scrolled": true
   },
   "outputs": [],
   "source": [
    "from final2 import cov_maker, profit_maker, sp500_maker, pen_1, pen_2, pen_3, f, ga_optimizer, run_ga, mjh"
   ]
  },
  {
   "cell_type": "code",
   "execution_count": 30,
   "metadata": {
    "scrolled": true
   },
   "outputs": [
    {
     "data": {
      "text/plain": [
       "[array([24, 25, array([27], dtype=int64), 34, 28, 27, 41, 39, 27, 27, 27,\n",
       "        27, array([27], dtype=int64), 27, 17], dtype=object),\n",
       " array([24, 25, array([27], dtype=int64), 34, 28, 27, 41, 39, 27, 27, 27,\n",
       "        27, array([27], dtype=int64), 27, 17], dtype=object),\n",
       " array([24, 25, array([27], dtype=int64), 34, 28, 27, 41, 39, 27, 27, 27,\n",
       "        27, array([27], dtype=int64), 27, 17], dtype=object),\n",
       " array([24, 25, array([27], dtype=int64), 34, 28, 27, 41, 39, 27, 27, 27,\n",
       "        27, array([27], dtype=int64), 27, 17], dtype=object),\n",
       " array([24, 25, array([27], dtype=int64), 34, 28, 27, 41, 39, 27, 27, 27,\n",
       "        27, array([27], dtype=int64), 27, 17], dtype=object),\n",
       " array([24, 25, array([27], dtype=int64), 34, 28, 27, 41, 39, 27, 27, 27,\n",
       "        27, array([27], dtype=int64), 27, 17], dtype=object),\n",
       " array([24, 25, array([27], dtype=int64), 34, 28, 27, 41, 39, 27, 27, 27,\n",
       "        27, array([27], dtype=int64), 27, 17], dtype=object),\n",
       " array([24, 25, array([27], dtype=int64), 34, 28, 27, 41, 39, 27, 27, 27,\n",
       "        27, array([27], dtype=int64), 27, 17], dtype=object),\n",
       " array([24, 25, array([27], dtype=int64), 34, 28, 27, 41, 39, 27, 27, 27,\n",
       "        27, array([27], dtype=int64), 27, 17], dtype=object),\n",
       " array([24, 25, array([27], dtype=int64), 34, 28, 27, 41, 39, 27, 27, 27,\n",
       "        27, array([27], dtype=int64), 27, 17], dtype=object),\n",
       " array([24, 25, array([27], dtype=int64), 34, 28, 27, 41, 39, 27, 27, 27,\n",
       "        27, array([27], dtype=int64), 27, 17], dtype=object),\n",
       " array([24, 25, array([27], dtype=int64), 34, 28, 27, 41, 39, 27, 27, 27,\n",
       "        27, array([27], dtype=int64), 27, 17], dtype=object),\n",
       " array([24, 25, array([27], dtype=int64), 34, 28, 27, 41, 39, 27, 27, 27,\n",
       "        27, array([27], dtype=int64), 27, 17], dtype=object),\n",
       " array([24, 25, array([27], dtype=int64), 34, 28, 27, 41, 39, 27, 27, 27,\n",
       "        27, array([27], dtype=int64), 27, 17], dtype=object),\n",
       " array([24, 25, array([27], dtype=int64), 34, 28, 27, 41, 39, 27, 27, 27,\n",
       "        27, array([27], dtype=int64), 27, 17], dtype=object),\n",
       " array([24, 25, array([27], dtype=int64), 34, 28, 27, 41, 39, 27, 27, 27,\n",
       "        27, array([27], dtype=int64), 27, 17], dtype=object)]"
      ]
     },
     "execution_count": 30,
     "metadata": {},
     "output_type": "execute_result"
    }
   ],
   "source": [
    "ini_multi = [ini_date].copy()*cores\n",
    "ini_multi"
   ]
  },
  {
   "cell_type": "code",
   "execution_count": 31,
   "metadata": {
    "scrolled": true
   },
   "outputs": [
    {
     "data": {
      "text/plain": [
       "[array([[24.0, 25.0, array([27.]), 34.0, 28.0, 27.0, 41.0, 39.0, 27.0,\n",
       "         27.0, 27.0, 27.0, array([27.]), 27.0, 17.0]], dtype=object),\n",
       " array([[25.0, 26.0, array([28.]), 35.0, 29.0, 28.0, 42.0, 40.0, 28.0,\n",
       "         28.0, 28.0, 28.0, array([28.]), 28.0, 18.0]], dtype=object),\n",
       " array([[26.0, 27.0, array([29.]), 36.0, 30.0, 29.0, 43.0, 41.0, 29.0,\n",
       "         29.0, 29.0, 29.0, array([29.]), 29.0, 19.0]], dtype=object),\n",
       " array([[27.0, 28.0, array([30.]), 37.0, 31.0, 30.0, 44.0, 42.0, 30.0,\n",
       "         30.0, 30.0, 30.0, array([30.]), 30.0, 20.0]], dtype=object),\n",
       " array([[28.0, 29.0, array([31.]), 38.0, 32.0, 31.0, 45.0, 43.0, 31.0,\n",
       "         31.0, 31.0, 31.0, array([31.]), 31.0, 21.0]], dtype=object),\n",
       " array([[29.0, 30.0, array([32.]), 39.0, 33.0, 32.0, 46.0, 44.0, 32.0,\n",
       "         32.0, 32.0, 32.0, array([32.]), 32.0, 22.0]], dtype=object),\n",
       " array([[30.0, 31.0, array([33.]), 40.0, 34.0, 33.0, 47.0, 45.0, 33.0,\n",
       "         33.0, 33.0, 33.0, array([33.]), 33.0, 23.0]], dtype=object),\n",
       " array([[31.0, 32.0, array([34.]), 41.0, 35.0, 34.0, 48.0, 46.0, 34.0,\n",
       "         34.0, 34.0, 34.0, array([34.]), 34.0, 24.0]], dtype=object),\n",
       " array([[32.0, 33.0, array([35.]), 42.0, 36.0, 35.0, 49.0, 47.0, 35.0,\n",
       "         35.0, 35.0, 35.0, array([35.]), 35.0, 25.0]], dtype=object),\n",
       " array([[33.0, 34.0, array([36.]), 43.0, 37.0, 36.0, 50.0, 48.0, 36.0,\n",
       "         36.0, 36.0, 36.0, array([36.]), 36.0, 26.0]], dtype=object),\n",
       " array([[34.0, 35.0, array([37.]), 44.0, 38.0, 37.0, 51.0, 49.0, 37.0,\n",
       "         37.0, 37.0, 37.0, array([37.]), 37.0, 27.0]], dtype=object),\n",
       " array([[35.0, 36.0, array([38.]), 45.0, 39.0, 38.0, 52.0, 50.0, 38.0,\n",
       "         38.0, 38.0, 38.0, array([38.]), 38.0, 28.0]], dtype=object),\n",
       " array([[36.0, 37.0, array([39.]), 46.0, 40.0, 39.0, 53.0, 51.0, 39.0,\n",
       "         39.0, 39.0, 39.0, array([39.]), 39.0, 29.0]], dtype=object),\n",
       " array([[37.0, 38.0, array([40.]), 47.0, 41.0, 40.0, 54.0, 52.0, 40.0,\n",
       "         40.0, 40.0, 40.0, array([40.]), 40.0, 30.0]], dtype=object),\n",
       " array([[38.0, 39.0, array([41.]), 48.0, 42.0, 41.0, 55.0, 53.0, 41.0,\n",
       "         41.0, 41.0, 41.0, array([41.]), 41.0, 31.0]], dtype=object),\n",
       " array([[39.0, 40.0, array([42.]), 49.0, 43.0, 42.0, 56.0, 54.0, 42.0,\n",
       "         42.0, 42.0, 42.0, array([42.]), 42.0, 32.0]], dtype=object)]"
      ]
     },
     "execution_count": 31,
     "metadata": {},
     "output_type": "execute_result"
    }
   ],
   "source": [
    "mulit_array = []\n",
    "until = 16\n",
    "per_core = int(until/cores)\n",
    "\n",
    "for i in range(0, cores):\n",
    "    ini = np.array([ini_multi[i]]) + until/cores * i\n",
    "    mulit_array.append(ini)\n",
    "mulit_array"
   ]
  },
  {
   "cell_type": "raw",
   "metadata": {},
   "source": [
    "if __name__ == '__main__':\n",
    "    numbers = mulit_array\n",
    "    procs = []\n",
    "\n",
    "    for index, number in enumerate(numbers):\n",
    "        ini_data = np.array(number[0])\n",
    "        proc = Process(target=run_ga, args=(ini_data,))\n",
    "        procs.append(proc)\n",
    "        proc.start()\n",
    "\n",
    "    for proc in procs:\n",
    "        proc.join()"
   ]
  },
  {
   "cell_type": "code",
   "execution_count": 32,
   "metadata": {},
   "outputs": [],
   "source": [
    "mulit_list = []\n",
    "for i in range(0, cores):\n",
    "    mulit_list.append(mulit_array[i].tolist()[0])\n",
    "    mulit_list[i]= [int(i) for i in mulit_list[i]]"
   ]
  },
  {
   "cell_type": "code",
   "execution_count": 33,
   "metadata": {
    "scrolled": true
   },
   "outputs": [
    {
     "data": {
      "text/plain": [
       "[[24, 25, 27, 34, 28, 27, 41, 39, 27, 27, 27, 27, 27, 27, 17],\n",
       " [25, 26, 28, 35, 29, 28, 42, 40, 28, 28, 28, 28, 28, 28, 18],\n",
       " [26, 27, 29, 36, 30, 29, 43, 41, 29, 29, 29, 29, 29, 29, 19],\n",
       " [27, 28, 30, 37, 31, 30, 44, 42, 30, 30, 30, 30, 30, 30, 20],\n",
       " [28, 29, 31, 38, 32, 31, 45, 43, 31, 31, 31, 31, 31, 31, 21],\n",
       " [29, 30, 32, 39, 33, 32, 46, 44, 32, 32, 32, 32, 32, 32, 22],\n",
       " [30, 31, 33, 40, 34, 33, 47, 45, 33, 33, 33, 33, 33, 33, 23],\n",
       " [31, 32, 34, 41, 35, 34, 48, 46, 34, 34, 34, 34, 34, 34, 24],\n",
       " [32, 33, 35, 42, 36, 35, 49, 47, 35, 35, 35, 35, 35, 35, 25],\n",
       " [33, 34, 36, 43, 37, 36, 50, 48, 36, 36, 36, 36, 36, 36, 26],\n",
       " [34, 35, 37, 44, 38, 37, 51, 49, 37, 37, 37, 37, 37, 37, 27],\n",
       " [35, 36, 38, 45, 39, 38, 52, 50, 38, 38, 38, 38, 38, 38, 28],\n",
       " [36, 37, 39, 46, 40, 39, 53, 51, 39, 39, 39, 39, 39, 39, 29],\n",
       " [37, 38, 40, 47, 41, 40, 54, 52, 40, 40, 40, 40, 40, 40, 30],\n",
       " [38, 39, 41, 48, 42, 41, 55, 53, 41, 41, 41, 41, 41, 41, 31],\n",
       " [39, 40, 42, 49, 43, 42, 56, 54, 42, 42, 42, 42, 42, 42, 32]]"
      ]
     },
     "execution_count": 33,
     "metadata": {},
     "output_type": "execute_result"
    }
   ],
   "source": [
    "mulit_list"
   ]
  },
  {
   "cell_type": "raw",
   "metadata": {},
   "source": [
    "if __name__ == '__main__':\n",
    "    with Pool(16) as p:\n",
    "        finale = p.map(mjh, mulit_list)\n",
    "        print(finale)"
   ]
  },
  {
   "cell_type": "code",
   "execution_count": 34,
   "metadata": {},
   "outputs": [
    {
     "name": "stdout",
     "output_type": "stream",
     "text": [
      "1/10\n",
      "2/10\n",
      "3/10\n",
      "4/10\n",
      "5/10\n",
      "6/10\n",
      "7/10\n",
      "8/10\n",
      "9/10\n",
      "10/10\n",
      "소요시간 : 1:10:17\n"
     ]
    }
   ],
   "source": [
    "from multiprocessing import Pool\n",
    "import time\n",
    "start = time.time()\n",
    "\n",
    "fin_df = pd.DataFrame()\n",
    "current = 0\n",
    "limit = 10\n",
    "\n",
    "while current < limit:\n",
    "    if __name__ == '__main__':\n",
    "        with Pool(cores) as p:\n",
    "            finale = p.map(mjh, mulit_list)\n",
    "    \n",
    "    mulit_list = []\n",
    "    for i in range(0, cores):\n",
    "        new_series = pd.Series(finale[i])\n",
    "        fin_df = pd.concat([fin_df, new_series], axis=1)\n",
    "        mulit_array[i]= mulit_array[i] + cores\n",
    "        mulit_list.append(mulit_array[i].tolist()[0])\n",
    "        mulit_list[i]= [int(i) for i in mulit_list[i]]\n",
    "    current += 1\n",
    "    print(\"{0}/{1}\".format(current,limit))\n",
    "    \n",
    "sec = time.time() - start\n",
    "times = str(timedelta(seconds = sec)).split(\".\")\n",
    "times = times[0]\n",
    "print(\"소요시간 :\", times)"
   ]
  },
  {
   "cell_type": "code",
   "execution_count": 35,
   "metadata": {},
   "outputs": [],
   "source": [
    "fin_df.to_excel('result_fin7.xlsx')"
   ]
  }
 ],
 "metadata": {
  "kernelspec": {
   "display_name": "Python 3",
   "language": "python",
   "name": "python3"
  },
  "language_info": {
   "codemirror_mode": {
    "name": "ipython",
    "version": 3
   },
   "file_extension": ".py",
   "mimetype": "text/x-python",
   "name": "python",
   "nbconvert_exporter": "python",
   "pygments_lexer": "ipython3",
   "version": "3.8.3"
  }
 },
 "nbformat": 4,
 "nbformat_minor": 4
}
