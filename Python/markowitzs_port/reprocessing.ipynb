{
 "cells": [
  {
   "cell_type": "code",
   "execution_count": 1,
   "metadata": {},
   "outputs": [],
   "source": [
    "import pandas as pd\n",
    "import plotly.graph_objs as go\n",
    "import plotly.offline as py\n",
    "\n",
    "import matplotlib.pyplot as plt\n",
    "from matplotlib import rc, font_manager\n",
    "%matplotlib inline\n",
    "# py.init_notebook_mode()\n",
    "\n",
    "from datetime import datetime\n",
    "from datetime import timedelta"
   ]
  },
  {
   "cell_type": "code",
   "execution_count": 2,
   "metadata": {},
   "outputs": [],
   "source": [
    "df = pd.read_csv('./aaii.csv')"
   ]
  },
  {
   "cell_type": "code",
   "execution_count": 4,
   "metadata": {},
   "outputs": [
    {
     "name": "stdout",
     "output_type": "stream",
     "text": [
      "<class 'pandas.core.frame.DataFrame'>\n",
      "RangeIndex: 820 entries, 0 to 819\n",
      "Data columns (total 6 columns):\n",
      " #   Column                  Non-Null Count  Dtype  \n",
      "---  ------                  --------------  -----  \n",
      " 0   Date                    820 non-null    object \n",
      " 1   Bullish                 820 non-null    float64\n",
      " 2   Neutral                 820 non-null    float64\n",
      " 3   Bearish                 820 non-null    float64\n",
      " 4   Bullish 8-Week Mov Avg  820 non-null    float64\n",
      " 5   Bull-Bear Spread        820 non-null    float64\n",
      "dtypes: float64(5), object(1)\n",
      "memory usage: 38.6+ KB\n"
     ]
    }
   ],
   "source": [
    "df.info()"
   ]
  },
  {
   "cell_type": "code",
   "execution_count": 5,
   "metadata": {},
   "outputs": [
    {
     "data": {
      "text/html": [
       "<div>\n",
       "<style scoped>\n",
       "    .dataframe tbody tr th:only-of-type {\n",
       "        vertical-align: middle;\n",
       "    }\n",
       "\n",
       "    .dataframe tbody tr th {\n",
       "        vertical-align: top;\n",
       "    }\n",
       "\n",
       "    .dataframe thead th {\n",
       "        text-align: right;\n",
       "    }\n",
       "</style>\n",
       "<table border=\"1\" class=\"dataframe\">\n",
       "  <thead>\n",
       "    <tr style=\"text-align: right;\">\n",
       "      <th></th>\n",
       "      <th>Date</th>\n",
       "      <th>Bullish</th>\n",
       "      <th>Neutral</th>\n",
       "      <th>Bearish</th>\n",
       "      <th>Bullish 8-Week Mov Avg</th>\n",
       "      <th>Bull-Bear Spread</th>\n",
       "    </tr>\n",
       "  </thead>\n",
       "  <tbody>\n",
       "    <tr>\n",
       "      <th>0</th>\n",
       "      <td>2005-01-06</td>\n",
       "      <td>0.381000</td>\n",
       "      <td>0.273800</td>\n",
       "      <td>0.345200</td>\n",
       "      <td>0.537763</td>\n",
       "      <td>0.035800</td>\n",
       "    </tr>\n",
       "    <tr>\n",
       "      <th>1</th>\n",
       "      <td>2005-01-13</td>\n",
       "      <td>0.339900</td>\n",
       "      <td>0.261400</td>\n",
       "      <td>0.398700</td>\n",
       "      <td>0.500125</td>\n",
       "      <td>-0.058800</td>\n",
       "    </tr>\n",
       "    <tr>\n",
       "      <th>2</th>\n",
       "      <td>2005-01-20</td>\n",
       "      <td>0.336600</td>\n",
       "      <td>0.326700</td>\n",
       "      <td>0.336600</td>\n",
       "      <td>0.480350</td>\n",
       "      <td>0.000000</td>\n",
       "    </tr>\n",
       "    <tr>\n",
       "      <th>3</th>\n",
       "      <td>2005-01-27</td>\n",
       "      <td>0.264300</td>\n",
       "      <td>0.371400</td>\n",
       "      <td>0.364300</td>\n",
       "      <td>0.442437</td>\n",
       "      <td>-0.100000</td>\n",
       "    </tr>\n",
       "    <tr>\n",
       "      <th>4</th>\n",
       "      <td>2005-02-03</td>\n",
       "      <td>0.416700</td>\n",
       "      <td>0.333300</td>\n",
       "      <td>0.250000</td>\n",
       "      <td>0.430337</td>\n",
       "      <td>0.166700</td>\n",
       "    </tr>\n",
       "    <tr>\n",
       "      <th>...</th>\n",
       "      <td>...</td>\n",
       "      <td>...</td>\n",
       "      <td>...</td>\n",
       "      <td>...</td>\n",
       "      <td>...</td>\n",
       "      <td>...</td>\n",
       "    </tr>\n",
       "    <tr>\n",
       "      <th>815</th>\n",
       "      <td>2020-08-20</td>\n",
       "      <td>0.303887</td>\n",
       "      <td>0.272085</td>\n",
       "      <td>0.424028</td>\n",
       "      <td>0.262678</td>\n",
       "      <td>-0.120141</td>\n",
       "    </tr>\n",
       "    <tr>\n",
       "      <th>816</th>\n",
       "      <td>2020-08-27</td>\n",
       "      <td>0.320755</td>\n",
       "      <td>0.283019</td>\n",
       "      <td>0.396226</td>\n",
       "      <td>0.275083</td>\n",
       "      <td>-0.075471</td>\n",
       "    </tr>\n",
       "    <tr>\n",
       "      <th>817</th>\n",
       "      <td>2020-09-03</td>\n",
       "      <td>0.308017</td>\n",
       "      <td>0.274262</td>\n",
       "      <td>0.417722</td>\n",
       "      <td>0.279641</td>\n",
       "      <td>-0.109705</td>\n",
       "    </tr>\n",
       "    <tr>\n",
       "      <th>818</th>\n",
       "      <td>2020-09-10</td>\n",
       "      <td>0.237113</td>\n",
       "      <td>0.278351</td>\n",
       "      <td>0.484536</td>\n",
       "      <td>0.270734</td>\n",
       "      <td>-0.247423</td>\n",
       "    </tr>\n",
       "    <tr>\n",
       "      <th>819</th>\n",
       "      <td>2020-09-17</td>\n",
       "      <td>0.320197</td>\n",
       "      <td>0.275862</td>\n",
       "      <td>0.403941</td>\n",
       "      <td>0.278188</td>\n",
       "      <td>-0.083744</td>\n",
       "    </tr>\n",
       "  </tbody>\n",
       "</table>\n",
       "<p>820 rows × 6 columns</p>\n",
       "</div>"
      ],
      "text/plain": [
       "           Date   Bullish   Neutral   Bearish  Bullish 8-Week Mov Avg  \\\n",
       "0    2005-01-06  0.381000  0.273800  0.345200                0.537763   \n",
       "1    2005-01-13  0.339900  0.261400  0.398700                0.500125   \n",
       "2    2005-01-20  0.336600  0.326700  0.336600                0.480350   \n",
       "3    2005-01-27  0.264300  0.371400  0.364300                0.442437   \n",
       "4    2005-02-03  0.416700  0.333300  0.250000                0.430337   \n",
       "..          ...       ...       ...       ...                     ...   \n",
       "815  2020-08-20  0.303887  0.272085  0.424028                0.262678   \n",
       "816  2020-08-27  0.320755  0.283019  0.396226                0.275083   \n",
       "817  2020-09-03  0.308017  0.274262  0.417722                0.279641   \n",
       "818  2020-09-10  0.237113  0.278351  0.484536                0.270734   \n",
       "819  2020-09-17  0.320197  0.275862  0.403941                0.278188   \n",
       "\n",
       "     Bull-Bear Spread  \n",
       "0            0.035800  \n",
       "1           -0.058800  \n",
       "2            0.000000  \n",
       "3           -0.100000  \n",
       "4            0.166700  \n",
       "..                ...  \n",
       "815         -0.120141  \n",
       "816         -0.075471  \n",
       "817         -0.109705  \n",
       "818         -0.247423  \n",
       "819         -0.083744  \n",
       "\n",
       "[820 rows x 6 columns]"
      ]
     },
     "execution_count": 5,
     "metadata": {},
     "output_type": "execute_result"
    }
   ],
   "source": [
    "df"
   ]
  },
  {
   "cell_type": "code",
   "execution_count": 7,
   "metadata": {},
   "outputs": [],
   "source": [
    "df['Date']=df['Date'].apply(lambda x: pd.to_datetime(str(x), format='%Y-%m-%d')).copy()"
   ]
  },
  {
   "cell_type": "code",
   "execution_count": 10,
   "metadata": {},
   "outputs": [],
   "source": [
    "df2 = pd.read_csv('./vix.csv')"
   ]
  },
  {
   "cell_type": "code",
   "execution_count": 14,
   "metadata": {},
   "outputs": [],
   "source": [
    "df2['Date']=df2['Date'].apply(lambda x: pd.to_datetime(str(x), format='%Y-%m-%d')).copy()"
   ]
  },
  {
   "cell_type": "code",
   "execution_count": 17,
   "metadata": {},
   "outputs": [],
   "source": [
    "df2.set_index('Date', inplace=True)"
   ]
  },
  {
   "cell_type": "code",
   "execution_count": 19,
   "metadata": {},
   "outputs": [],
   "source": [
    "df.set_index('Date', inplace=True)"
   ]
  },
  {
   "cell_type": "code",
   "execution_count": 27,
   "metadata": {},
   "outputs": [],
   "source": [
    "df3 = pd.merge(df, df2, how = 'right', on='Date')"
   ]
  },
  {
   "cell_type": "code",
   "execution_count": 28,
   "metadata": {},
   "outputs": [],
   "source": [
    "import os\n",
    "base_dir = 'E:\\문서'\n",
    "file_nm = \"aaii.xlsx\"\n",
    "xlxs_dir = os.path.join(base_dir, file_nm)"
   ]
  },
  {
   "cell_type": "code",
   "execution_count": 29,
   "metadata": {},
   "outputs": [],
   "source": [
    "df3.to_excel(xlxs_dir, # directory and file name to write\n",
    "            na_rep = 'NaN', \n",
    "            float_format = \"%.2f\", \n",
    "            header = True, \n",
    "            index = True, \n",
    "            index_label = \"id\", \n",
    "            startrow = 1, \n",
    "            startcol = 1, \n",
    "            ) "
   ]
  }
 ],
 "metadata": {
  "kernelspec": {
   "display_name": "Python 3",
   "language": "python",
   "name": "python3"
  },
  "language_info": {
   "codemirror_mode": {
    "name": "ipython",
    "version": 3
   },
   "file_extension": ".py",
   "mimetype": "text/x-python",
   "name": "python",
   "nbconvert_exporter": "python",
   "pygments_lexer": "ipython3",
   "version": "3.8.3"
  }
 },
 "nbformat": 4,
 "nbformat_minor": 4
}
