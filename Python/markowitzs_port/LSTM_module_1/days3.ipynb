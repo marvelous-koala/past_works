{
 "cells": [
  {
   "cell_type": "code",
   "execution_count": 1,
   "metadata": {},
   "outputs": [
    {
     "name": "stderr",
     "output_type": "stream",
     "text": [
      "<frozen importlib._bootstrap>:219: RuntimeWarning: numpy.ufunc size changed, may indicate binary incompatibility. Expected 192 from C header, got 216 from PyObject\n"
     ]
    }
   ],
   "source": [
    "import pandas as pd\n",
    "from pandas import Series, DataFrame\n",
    "import numpy as np\n",
    "import matplotlib.pyplot as plt\n",
    "from keras.models import Sequential\n",
    "from keras.layers import LSTM,Dense\n",
    "from keras.models import load_model\n",
    "from sklearn.preprocessing import MinMaxScaler\n",
    "from sklearn.model_selection import train_test_split"
   ]
  },
  {
   "cell_type": "code",
   "execution_count": 2,
   "metadata": {},
   "outputs": [],
   "source": [
    "plt.rc('font', family='NanumGothic')\n",
    "plt.rcParams[\"font.size\"] = 12\n",
    "plt.rcParams[\"font.family\"] = 'NanumGothic'\n",
    "plt.rcParams['xtick.labelsize'] = 12.\n",
    "plt.rcParams['ytick.labelsize'] = 12."
   ]
  },
  {
   "cell_type": "code",
   "execution_count": 3,
   "metadata": {},
   "outputs": [
    {
     "data": {
      "text/html": [
       "<div>\n",
       "<style scoped>\n",
       "    .dataframe tbody tr th:only-of-type {\n",
       "        vertical-align: middle;\n",
       "    }\n",
       "\n",
       "    .dataframe tbody tr th {\n",
       "        vertical-align: top;\n",
       "    }\n",
       "\n",
       "    .dataframe thead th {\n",
       "        text-align: right;\n",
       "    }\n",
       "</style>\n",
       "<table border=\"1\" class=\"dataframe\">\n",
       "  <thead>\n",
       "    <tr style=\"text-align: right;\">\n",
       "      <th></th>\n",
       "      <th>Date</th>\n",
       "      <th>Open</th>\n",
       "      <th>High</th>\n",
       "      <th>Low</th>\n",
       "      <th>Close</th>\n",
       "      <th>Adj Close</th>\n",
       "      <th>Volume</th>\n",
       "    </tr>\n",
       "  </thead>\n",
       "  <tbody>\n",
       "    <tr>\n",
       "      <th>3969</th>\n",
       "      <td>2020-10-08</td>\n",
       "      <td>3434.280029</td>\n",
       "      <td>3447.280029</td>\n",
       "      <td>3428.149902</td>\n",
       "      <td>3446.830078</td>\n",
       "      <td>3446.830078</td>\n",
       "      <td>3856190000</td>\n",
       "    </tr>\n",
       "    <tr>\n",
       "      <th>3970</th>\n",
       "      <td>2020-10-09</td>\n",
       "      <td>3459.669922</td>\n",
       "      <td>3482.340088</td>\n",
       "      <td>3458.070068</td>\n",
       "      <td>3477.139893</td>\n",
       "      <td>3477.139893</td>\n",
       "      <td>3939060000</td>\n",
       "    </tr>\n",
       "    <tr>\n",
       "      <th>3971</th>\n",
       "      <td>2020-10-12</td>\n",
       "      <td>3500.020020</td>\n",
       "      <td>3549.850098</td>\n",
       "      <td>3499.610107</td>\n",
       "      <td>3534.219971</td>\n",
       "      <td>3534.219971</td>\n",
       "      <td>3428970000</td>\n",
       "    </tr>\n",
       "    <tr>\n",
       "      <th>3972</th>\n",
       "      <td>2020-10-13</td>\n",
       "      <td>3534.010010</td>\n",
       "      <td>3534.010010</td>\n",
       "      <td>3500.860107</td>\n",
       "      <td>3511.929932</td>\n",
       "      <td>3511.929932</td>\n",
       "      <td>3605150000</td>\n",
       "    </tr>\n",
       "    <tr>\n",
       "      <th>3973</th>\n",
       "      <td>2020-10-14</td>\n",
       "      <td>3515.469971</td>\n",
       "      <td>3527.939941</td>\n",
       "      <td>3480.550049</td>\n",
       "      <td>3489.070068</td>\n",
       "      <td>3489.070068</td>\n",
       "      <td>1087883110</td>\n",
       "    </tr>\n",
       "  </tbody>\n",
       "</table>\n",
       "</div>"
      ],
      "text/plain": [
       "           Date         Open         High          Low        Close  \\\n",
       "3969 2020-10-08  3434.280029  3447.280029  3428.149902  3446.830078   \n",
       "3970 2020-10-09  3459.669922  3482.340088  3458.070068  3477.139893   \n",
       "3971 2020-10-12  3500.020020  3549.850098  3499.610107  3534.219971   \n",
       "3972 2020-10-13  3534.010010  3534.010010  3500.860107  3511.929932   \n",
       "3973 2020-10-14  3515.469971  3527.939941  3480.550049  3489.070068   \n",
       "\n",
       "        Adj Close      Volume  \n",
       "3969  3446.830078  3856190000  \n",
       "3970  3477.139893  3939060000  \n",
       "3971  3534.219971  3428970000  \n",
       "3972  3511.929932  3605150000  \n",
       "3973  3489.070068  1087883110  "
      ]
     },
     "execution_count": 3,
     "metadata": {},
     "output_type": "execute_result"
    }
   ],
   "source": [
    "df = pd.read_csv('./sp500.csv')\n",
    "df['Date'] = pd.to_datetime(df['Date'])\n",
    "df.tail()"
   ]
  },
  {
   "cell_type": "code",
   "execution_count": 4,
   "metadata": {},
   "outputs": [],
   "source": [
    "df.set_index('Date', inplace=True)\n",
    "df = df['Adj Close']"
   ]
  },
  {
   "cell_type": "code",
   "execution_count": 5,
   "metadata": {},
   "outputs": [],
   "source": [
    "def processData(data, look_back, forward_days,jump=1):\n",
    "    X,Y = [],[]\n",
    "    for i in range(0,len(data) -look_back -forward_days +1, jump):\n",
    "        X.append(data[i:(i+look_back)])\n",
    "        Y.append(data[(i+look_back):(i+look_back+forward_days)])\n",
    "    return np.array(X),np.array(Y)"
   ]
  },
  {
   "cell_type": "code",
   "execution_count": 7,
   "metadata": {},
   "outputs": [],
   "source": [
    "look_back = 30\n",
    "forward_days = 3\n",
    "num_periods = 50\n",
    "scl = MinMaxScaler()\n",
    "array = df.values.reshape(df.shape[0],1)\n",
    "array = scl.fit_transform(array)\n",
    "division = len(array) - num_periods*forward_days\n",
    "array_test = array[division-look_back:]\n",
    "array_train = array[:division]\n",
    "\n",
    "X_test,y_test = processData(array_test,look_back,forward_days,forward_days)\n",
    "y_test = np.array([list(a.ravel()) for a in y_test])\n",
    "\n",
    "X,y = processData(array_train,look_back,forward_days)\n",
    "y = np.array([list(a.ravel()) for a in y])\n",
    "\n",
    "X_train, X_validate, y_train, y_validate = train_test_split(X, y, test_size=0.20)"
   ]
  },
  {
   "cell_type": "code",
   "execution_count": 8,
   "metadata": {
    "scrolled": true
   },
   "outputs": [
    {
     "name": "stdout",
     "output_type": "stream",
     "text": [
      "Epoch 1/50\n",
      "1517/1517 - 17s - loss: 9.9247e-04 - val_loss: 3.0292e-04\n",
      "Epoch 2/50\n",
      "1517/1517 - 16s - loss: 3.0887e-04 - val_loss: 2.0457e-04\n",
      "Epoch 3/50\n",
      "1517/1517 - 16s - loss: 2.4594e-04 - val_loss: 1.5310e-04\n",
      "Epoch 4/50\n",
      "1517/1517 - 17s - loss: 2.3277e-04 - val_loss: 1.3976e-04\n",
      "Epoch 5/50\n",
      "1517/1517 - 18s - loss: 2.0036e-04 - val_loss: 6.1205e-04\n",
      "Epoch 6/50\n",
      "1517/1517 - 17s - loss: 1.8997e-04 - val_loss: 2.0944e-04\n",
      "Epoch 7/50\n",
      "1517/1517 - 16s - loss: 1.5730e-04 - val_loss: 1.5739e-04\n",
      "Epoch 8/50\n",
      "1517/1517 - 16s - loss: 1.5115e-04 - val_loss: 8.4199e-05\n",
      "Epoch 9/50\n",
      "1517/1517 - 17s - loss: 1.4639e-04 - val_loss: 1.1881e-04\n",
      "Epoch 10/50\n",
      "1517/1517 - 17s - loss: 1.3408e-04 - val_loss: 1.0479e-04\n",
      "Epoch 11/50\n",
      "1517/1517 - 18s - loss: 1.2809e-04 - val_loss: 9.9467e-05\n",
      "Epoch 12/50\n",
      "1517/1517 - 18s - loss: 1.2001e-04 - val_loss: 7.3184e-05\n",
      "Epoch 13/50\n",
      "1517/1517 - 18s - loss: 1.2924e-04 - val_loss: 1.2571e-04\n",
      "Epoch 14/50\n",
      "1517/1517 - 18s - loss: 1.2599e-04 - val_loss: 9.9935e-05\n",
      "Epoch 15/50\n",
      "1517/1517 - 18s - loss: 1.2500e-04 - val_loss: 1.2024e-04\n",
      "Epoch 16/50\n",
      "1517/1517 - 17s - loss: 1.1979e-04 - val_loss: 1.1319e-04\n",
      "Epoch 17/50\n",
      "1517/1517 - 18s - loss: 1.2812e-04 - val_loss: 7.8190e-05\n",
      "Epoch 18/50\n",
      "1517/1517 - 18s - loss: 1.2250e-04 - val_loss: 9.3102e-05\n",
      "Epoch 19/50\n",
      "1517/1517 - 17s - loss: 1.2450e-04 - val_loss: 9.2189e-05\n",
      "Epoch 20/50\n",
      "1517/1517 - 18s - loss: 1.2425e-04 - val_loss: 1.3064e-04\n",
      "Epoch 21/50\n",
      "1517/1517 - 18s - loss: 1.2156e-04 - val_loss: 1.1030e-04\n",
      "Epoch 22/50\n",
      "1517/1517 - 18s - loss: 1.0528e-04 - val_loss: 1.0301e-04\n",
      "Epoch 23/50\n",
      "1517/1517 - 18s - loss: 1.0943e-04 - val_loss: 6.9257e-05\n",
      "Epoch 24/50\n",
      "1517/1517 - 18s - loss: 1.1042e-04 - val_loss: 1.8186e-04\n",
      "Epoch 25/50\n",
      "1517/1517 - 18s - loss: 1.1690e-04 - val_loss: 7.2634e-05\n",
      "Epoch 26/50\n",
      "1517/1517 - 18s - loss: 1.1111e-04 - val_loss: 8.0941e-05\n",
      "Epoch 27/50\n",
      "1517/1517 - 18s - loss: 1.1227e-04 - val_loss: 1.3147e-04\n",
      "Epoch 28/50\n",
      "1517/1517 - 18s - loss: 1.0933e-04 - val_loss: 9.6046e-05\n",
      "Epoch 29/50\n",
      "1517/1517 - 18s - loss: 1.1207e-04 - val_loss: 1.2276e-04\n",
      "Epoch 30/50\n",
      "1517/1517 - 18s - loss: 1.0397e-04 - val_loss: 8.9170e-05\n",
      "Epoch 31/50\n",
      "1517/1517 - 18s - loss: 1.0890e-04 - val_loss: 8.9684e-05\n",
      "Epoch 32/50\n",
      "1517/1517 - 18s - loss: 1.0509e-04 - val_loss: 1.1090e-04\n",
      "Epoch 33/50\n",
      "1517/1517 - 18s - loss: 1.1903e-04 - val_loss: 9.0770e-05\n",
      "Epoch 34/50\n",
      "1517/1517 - 18s - loss: 1.0237e-04 - val_loss: 7.6223e-05\n",
      "Epoch 35/50\n",
      "1517/1517 - 18s - loss: 1.0663e-04 - val_loss: 9.1931e-05\n",
      "Epoch 36/50\n",
      "1517/1517 - 18s - loss: 1.0437e-04 - val_loss: 1.2438e-04\n",
      "Epoch 37/50\n",
      "1517/1517 - 18s - loss: 1.0610e-04 - val_loss: 1.2164e-04\n",
      "Epoch 38/50\n",
      "1517/1517 - 18s - loss: 1.0513e-04 - val_loss: 8.5815e-05\n",
      "Epoch 39/50\n",
      "1517/1517 - 18s - loss: 1.0921e-04 - val_loss: 1.3664e-04\n",
      "Epoch 40/50\n",
      "1517/1517 - 17s - loss: 1.1081e-04 - val_loss: 7.5335e-05\n",
      "Epoch 41/50\n",
      "1517/1517 - 18s - loss: 1.0464e-04 - val_loss: 7.2433e-05\n",
      "Epoch 42/50\n",
      "1517/1517 - 18s - loss: 1.0541e-04 - val_loss: 7.0993e-05\n",
      "Epoch 43/50\n",
      "1517/1517 - 18s - loss: 1.1319e-04 - val_loss: 7.3476e-05\n",
      "Epoch 44/50\n",
      "1517/1517 - 18s - loss: 1.0022e-04 - val_loss: 9.9585e-05\n",
      "Epoch 45/50\n",
      "1517/1517 - 18s - loss: 1.0434e-04 - val_loss: 1.0448e-04\n",
      "Epoch 46/50\n",
      "1517/1517 - 18s - loss: 1.0414e-04 - val_loss: 9.6648e-05\n",
      "Epoch 47/50\n",
      "1517/1517 - 18s - loss: 1.0895e-04 - val_loss: 8.5770e-05\n",
      "Epoch 48/50\n",
      "1517/1517 - 17s - loss: 1.0586e-04 - val_loss: 1.2908e-04\n",
      "Epoch 49/50\n",
      "1517/1517 - 17s - loss: 1.0293e-04 - val_loss: 7.1131e-05\n",
      "Epoch 50/50\n",
      "1517/1517 - 17s - loss: 9.8820e-05 - val_loss: 8.9019e-05\n"
     ]
    }
   ],
   "source": [
    "NUM_NEURONS_FirstLayer = 50\n",
    "NUM_NEURONS_SecondLayer = 30\n",
    "EPOCHS = 50\n",
    "\n",
    "model = Sequential()\n",
    "model.add(LSTM(NUM_NEURONS_FirstLayer,input_shape=(look_back,1), return_sequences=True))\n",
    "model.add(LSTM(NUM_NEURONS_SecondLayer,input_shape=(NUM_NEURONS_FirstLayer,1)))\n",
    "model.add(Dense(forward_days))\n",
    "model.compile(loss='mean_squared_error', optimizer='adam')\n",
    "\n",
    "history = model.fit(X_train,y_train,epochs=EPOCHS,validation_data=(X_validate,y_validate),shuffle=True,batch_size=2, verbose=2)"
   ]
  },
  {
   "cell_type": "code",
   "execution_count": 9,
   "metadata": {},
   "outputs": [],
   "source": [
    "Xt = model.predict(X_test)"
   ]
  },
  {
   "cell_type": "code",
   "execution_count": 10,
   "metadata": {},
   "outputs": [
    {
     "data": {
      "image/png": "[encoded data removed]",
      "text/plain": [
       "<Figure size 1080x720 with 1 Axes>"
      ]
     },
     "metadata": {
      "needs_background": "light"
     },
     "output_type": "display_data"
    }
   ],
   "source": [
    "plt.figure(figsize = (15,10))\n",
    "\n",
    "for i in range(0,len(Xt)):\n",
    "    plt.plot([x + i*forward_days for x in range(len(Xt[i]))], scl.inverse_transform(Xt[i].reshape(-1,1)), color='r')\n",
    "    \n",
    "plt.plot(0, scl.inverse_transform(Xt[i].reshape(-1,1))[0], color='r', label='Prediction')\n",
    "    \n",
    "plt.plot(scl.inverse_transform(y_test.reshape(-1,1)), label='Target')\n",
    "plt.legend(loc='best')\n",
    "plt.show()"
   ]
  }
 ],
 "metadata": {
  "kernelspec": {
   "display_name": "Python 3",
   "language": "python",
   "name": "python3"
  },
  "language_info": {
   "codemirror_mode": {
    "name": "ipython",
    "version": 3
   },
   "file_extension": ".py",
   "mimetype": "text/x-python",
   "name": "python",
   "nbconvert_exporter": "python",
   "pygments_lexer": "ipython3",
   "version": "3.8.3"
  }
 },
 "nbformat": 4,
 "nbformat_minor": 4
}
