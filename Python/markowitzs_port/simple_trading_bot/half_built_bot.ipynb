{
 "cells": [
  {
   "cell_type": "code",
   "execution_count": 1,
   "metadata": {},
   "outputs": [],
   "source": [
    "import pandas as pd\n",
    "import numpy as np\n",
    "import datetime as dt\n",
    "import math\n",
    "import warnings\n",
    "import matplotlib.pyplot as plt\n",
    "\n",
    "warnings.filterwarnings(\"ignore\")\n",
    "\n",
    "prices = pd.read_csv(\"prices.csv\", index_col=\"Date\", parse_dates=True)\n",
    "volumechanges = pd.read_csv(\"volume.csv\", index_col=\"Date\", parse_dates=True).pct_change()*100"
   ]
  },
  {
   "cell_type": "code",
   "execution_count": 59,
   "metadata": {},
   "outputs": [],
   "source": [
    "def getprice(date, ticker):\n",
    "    global prices\n",
    "    return prices.loc[date][ticker]\n",
    "\n",
    "\n",
    "def transaction(id, ticker, amount, price, type, info):\n",
    "    global transactionid\n",
    "    if type == \"buy\":\n",
    "        exp_date = today + dt.timedelta(days=7)\n",
    "        transactionid += 1\n",
    "    else:\n",
    "        exp_date = today\n",
    "    if type == \"sell\":\n",
    "        data = {\"id\": id, \"ticker\": ticker, \"amount\": amount, \"price\": price, \"date\": today, \"type\": type,\n",
    "                \"exp_date\": exp_date, \"info\": info}\n",
    "    elif type == \"buy\":\n",
    "        data = {\"id\": transactionid, \"ticker\": ticker, \"amount\": amount, \"price\": price, \"date\": today, \"type\": type,\n",
    "                \"exp_date\": exp_date, \"info\": info}\n",
    "        activelog.append(data)\n",
    "    transactionlog.append(data)\n",
    "\n",
    "\n",
    "def buy(interestlst, allocated_money):\n",
    "    global money, portfolio\n",
    "    for item in interestlst:\n",
    "        price = getprice(today, item)\n",
    "        if not np.isnan(price):\n",
    "            quantity = math.floor(allocated_money/price)\n",
    "            money -= quantity*price\n",
    "            portfolio[item] += quantity\n",
    "            transaction(0, item, quantity, price, \"buy\", \"\")\n",
    "\n",
    "\n",
    "def sell():\n",
    "    global money, portfolio, prices, today\n",
    "    itemstoremove = []\n",
    "    for i in range(len(activelog)):\n",
    "        log = activelog[i]\n",
    "        if log[\"exp_date\"] <= today and log[\"type\"] == \"buy\":\n",
    "            tickprice = getprice(today, log[\"ticker\"])\n",
    "            if not np.isnan(tickprice):\n",
    "                money += log[\"amount\"]*tickprice\n",
    "                portfolio[log[\"ticker\"]] -= log[\"amount\"]\n",
    "                transaction(log[\"id\"], log[\"ticker\"], log[\"amount\"], tickprice, \"sell\", log[\"info\"])\n",
    "                itemstoremove.append(i)\n",
    "            else:\n",
    "                log[\"exp_date\"] += dt.timedelta(days=1)\n",
    "    itemstoremove.reverse()\n",
    "    for elem in itemstoremove:\n",
    "        activelog.remove(activelog[elem])\n",
    "\n",
    "\n",
    "\n",
    "def getindices():\n",
    "    global tickers\n",
    "    f = open(\"symbols.txt\", \"r\")\n",
    "    for line in f:\n",
    "        tickers.append(line.strip())\n",
    "    f.close()\n",
    "\n",
    "\n",
    "def tradingday():\n",
    "    global prices, today\n",
    "    return np.datetime64(today) in list(prices.index.values)\n",
    "\n",
    "\n",
    "def currentvalue():\n",
    "    global money, portfolio, today, prices\n",
    "    value = money\n",
    "    for ticker in tickers:\n",
    "        tickprice = getprice(today, ticker)\n",
    "        if not np.isnan(tickprice):\n",
    "            value += portfolio[ticker]*tickprice\n",
    "    return int(value*100)/100\n",
    "\n",
    "\n",
    "def main():\n",
    "    global today\n",
    "    getindices()\n",
    "    for ticker in tickers:\n",
    "        portfolio[ticker] = 0\n",
    "    while today < simend:\n",
    "        while not tradingday():\n",
    "            today += dt.timedelta(days=1)\n",
    "        simulation()\n",
    "        currentpvalue = currentvalue()\n",
    "        result.append(currentpvalue)\n",
    "        today += dt.timedelta(days=7)\n",
    "    plt.plot(result)"
   ]
  },
  {
   "cell_type": "code",
   "execution_count": 60,
   "metadata": {},
   "outputs": [],
   "source": [
    "def simulation():\n",
    "    global today, volumechanges, money\n",
    "    start_date = today - dt.timedelta(days=14)\n",
    "    series = volumechanges.loc[start_date:today].mean()\n",
    "    interestlst = series[series > 15].index.tolist()\n",
    "    sell()\n",
    "    if len(interestlst) > 0:\n",
    "        #moneyToAllocate = 500000/len(interestlst)\n",
    "        #moneyToAllocate = currentvalue()/(2*len(interestlst))\n",
    "        moneyToAllocate = money/(2*len(interestlst))\n",
    "        buy(interestlst, moneyToAllocate)"
   ]
  },
  {
   "cell_type": "code",
   "execution_count": 61,
   "metadata": {},
   "outputs": [],
   "source": [
    "result = []\n",
    "today = dt.date(2018, 1, 1)\n",
    "simend = dt.date(2020, 10, 8)\n",
    "tickers = []\n",
    "transactionid = 0\n",
    "money = 1000000\n",
    "portfolio = {}\n",
    "activelog = []\n",
    "transactionlog = []"
   ]
  },
  {
   "cell_type": "code",
   "execution_count": 62,
   "metadata": {},
   "outputs": [
    {
     "data": {
      "image/png": "[encoded data removed]",
      "text/plain": [
       "<Figure size 432x288 with 1 Axes>"
      ]
     },
     "metadata": {
      "needs_background": "light"
     },
     "output_type": "display_data"
    }
   ],
   "source": [
    "main()"
   ]
  },
  {
   "cell_type": "code",
   "execution_count": 64,
   "metadata": {},
   "outputs": [
    {
     "data": {
      "text/plain": [
       "{'id': 1571,\n",
       " 'ticker': 'XRT',\n",
       " 'amount': 1129,\n",
       " 'price': 51.01,\n",
       " 'date': datetime.date(2020, 10, 1),\n",
       " 'type': 'buy',\n",
       " 'exp_date': datetime.date(2020, 10, 8),\n",
       " 'info': ''}"
      ]
     },
     "execution_count": 64,
     "metadata": {},
     "output_type": "execute_result"
    }
   ],
   "source": [
    "transactionlog[-1]"
   ]
  }
 ],
 "metadata": {
  "kernelspec": {
   "display_name": "Python 3",
   "language": "python",
   "name": "python3"
  },
  "language_info": {
   "codemirror_mode": {
    "name": "ipython",
    "version": 3
   },
   "file_extension": ".py",
   "mimetype": "text/x-python",
   "name": "python",
   "nbconvert_exporter": "python",
   "pygments_lexer": "ipython3",
   "version": "3.8.3"
  }
 },
 "nbformat": 4,
 "nbformat_minor": 4
}
