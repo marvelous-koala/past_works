{
 "cells": [
  {
   "cell_type": "code",
   "execution_count": 3,
   "metadata": {},
   "outputs": [],
   "source": [
    "from statsmodels.tsa.stattools import adfuller\n",
    "import pandas as pd\n",
    "from pandas import Series, DataFrame\n",
    "import numpy as np\n",
    "import matplotlib.pyplot as plt"
   ]
  },
  {
   "cell_type": "code",
   "execution_count": 2,
   "metadata": {},
   "outputs": [],
   "source": [
    "def print_adfuller(inputSeries):\n",
    "    result = adfuller(inputSeries)\n",
    "    print('ADF Statistic: %f' % result[0])\n",
    "    print('p-value: %f' % result[1])\n",
    "    print('Critical Values:')\n",
    "    for key, value in result[4].items():\n",
    "        print('\\t%s: %.3f' % (key, value))"
   ]
  },
  {
   "cell_type": "code",
   "execution_count": 7,
   "metadata": {},
   "outputs": [],
   "source": [
    "datas = pd.read_excel('./log.xlsx')"
   ]
  },
  {
   "cell_type": "code",
   "execution_count": 10,
   "metadata": {},
   "outputs": [],
   "source": [
    "datas.set_index('Date', inplace=True)"
   ]
  },
  {
   "cell_type": "code",
   "execution_count": 17,
   "metadata": {
    "scrolled": true
   },
   "outputs": [
    {
     "data": {
      "text/plain": [
       "Index(['강남구', '강동구', '강북구', '강서구', '관악구', '광진구', '구로구', '금천구', '노원구', '도봉구',\n",
       "       '동대문구', '동작구', '마포구', '서대문구', '서초구', '성동구', '성북구', '송파구', '양천구', '영등포구',\n",
       "       '용산구', '은평구', '종로구', '중구', '중랑구'],\n",
       "      dtype='object')"
      ]
     },
     "execution_count": 17,
     "metadata": {},
     "output_type": "execute_result"
    }
   ],
   "source": [
    "names = datas.columns\n",
    "names"
   ]
  },
  {
   "cell_type": "code",
   "execution_count": 18,
   "metadata": {},
   "outputs": [
    {
     "data": {
      "text/plain": [
       "Date\n",
       "20190302    0.013905\n",
       "20190303   -0.058425\n",
       "20190304    0.297079\n",
       "20190305    0.020164\n",
       "20190306    0.003333\n",
       "              ...   \n",
       "20201027    0.000000\n",
       "20201028    0.000000\n",
       "20201029    0.000000\n",
       "20201030    0.000000\n",
       "20201031    0.000000\n",
       "Name: 강남구, Length: 487, dtype: float64"
      ]
     },
     "execution_count": 18,
     "metadata": {},
     "output_type": "execute_result"
    }
   ],
   "source": [
    "datas['강남구']"
   ]
  },
  {
   "cell_type": "code",
   "execution_count": 19,
   "metadata": {},
   "outputs": [
    {
     "name": "stdout",
     "output_type": "stream",
     "text": [
      "ADF Statistic: -21.988568\n",
      "p-value: 0.000000\n",
      "Critical Values:\n",
      "\t1%: -3.444\n",
      "\t5%: -2.868\n",
      "\t10%: -2.570\n",
      "ADF Statistic: -8.338949\n",
      "p-value: 0.000000\n",
      "Critical Values:\n",
      "\t1%: -3.444\n",
      "\t5%: -2.868\n",
      "\t10%: -2.570\n",
      "ADF Statistic: -5.910471\n",
      "p-value: 0.000000\n",
      "Critical Values:\n",
      "\t1%: -3.444\n",
      "\t5%: -2.868\n",
      "\t10%: -2.570\n",
      "ADF Statistic: -10.547311\n",
      "p-value: 0.000000\n",
      "Critical Values:\n",
      "\t1%: -3.444\n",
      "\t5%: -2.868\n",
      "\t10%: -2.570\n",
      "ADF Statistic: -8.397920\n",
      "p-value: 0.000000\n",
      "Critical Values:\n",
      "\t1%: -3.444\n",
      "\t5%: -2.868\n",
      "\t10%: -2.570\n",
      "ADF Statistic: -9.662402\n",
      "p-value: 0.000000\n",
      "Critical Values:\n",
      "\t1%: -3.444\n",
      "\t5%: -2.868\n",
      "\t10%: -2.570\n",
      "ADF Statistic: -9.503944\n",
      "p-value: 0.000000\n",
      "Critical Values:\n",
      "\t1%: -3.444\n",
      "\t5%: -2.868\n",
      "\t10%: -2.570\n",
      "ADF Statistic: -8.804111\n",
      "p-value: 0.000000\n",
      "Critical Values:\n",
      "\t1%: -3.444\n",
      "\t5%: -2.868\n",
      "\t10%: -2.570\n",
      "ADF Statistic: -8.157332\n",
      "p-value: 0.000000\n",
      "Critical Values:\n",
      "\t1%: -3.444\n",
      "\t5%: -2.868\n",
      "\t10%: -2.570\n",
      "ADF Statistic: -7.994324\n",
      "p-value: 0.000000\n",
      "Critical Values:\n",
      "\t1%: -3.444\n",
      "\t5%: -2.868\n",
      "\t10%: -2.570\n",
      "ADF Statistic: -9.243063\n",
      "p-value: 0.000000\n",
      "Critical Values:\n",
      "\t1%: -3.444\n",
      "\t5%: -2.868\n",
      "\t10%: -2.570\n",
      "ADF Statistic: -8.939424\n",
      "p-value: 0.000000\n",
      "Critical Values:\n",
      "\t1%: -3.444\n",
      "\t5%: -2.868\n",
      "\t10%: -2.570\n",
      "ADF Statistic: -8.848120\n",
      "p-value: 0.000000\n",
      "Critical Values:\n",
      "\t1%: -3.444\n",
      "\t5%: -2.868\n",
      "\t10%: -2.570\n",
      "ADF Statistic: -9.457589\n",
      "p-value: 0.000000\n",
      "Critical Values:\n",
      "\t1%: -3.444\n",
      "\t5%: -2.868\n",
      "\t10%: -2.570\n",
      "ADF Statistic: -9.254574\n",
      "p-value: 0.000000\n",
      "Critical Values:\n",
      "\t1%: -3.444\n",
      "\t5%: -2.868\n",
      "\t10%: -2.570\n",
      "ADF Statistic: -9.524012\n",
      "p-value: 0.000000\n",
      "Critical Values:\n",
      "\t1%: -3.444\n",
      "\t5%: -2.868\n",
      "\t10%: -2.570\n",
      "ADF Statistic: -9.996683\n",
      "p-value: 0.000000\n",
      "Critical Values:\n",
      "\t1%: -3.444\n",
      "\t5%: -2.868\n",
      "\t10%: -2.570\n",
      "ADF Statistic: -9.537132\n",
      "p-value: 0.000000\n",
      "Critical Values:\n",
      "\t1%: -3.444\n",
      "\t5%: -2.868\n",
      "\t10%: -2.570\n",
      "ADF Statistic: -9.093575\n",
      "p-value: 0.000000\n",
      "Critical Values:\n",
      "\t1%: -3.444\n",
      "\t5%: -2.868\n",
      "\t10%: -2.570\n",
      "ADF Statistic: -9.141287\n",
      "p-value: 0.000000\n",
      "Critical Values:\n",
      "\t1%: -3.444\n",
      "\t5%: -2.868\n",
      "\t10%: -2.570\n",
      "ADF Statistic: -8.820337\n",
      "p-value: 0.000000\n",
      "Critical Values:\n",
      "\t1%: -3.444\n",
      "\t5%: -2.868\n",
      "\t10%: -2.570\n",
      "ADF Statistic: -7.596350\n",
      "p-value: 0.000000\n",
      "Critical Values:\n",
      "\t1%: -3.444\n",
      "\t5%: -2.868\n",
      "\t10%: -2.570\n",
      "ADF Statistic: -7.998014\n",
      "p-value: 0.000000\n",
      "Critical Values:\n",
      "\t1%: -3.444\n",
      "\t5%: -2.868\n",
      "\t10%: -2.570\n",
      "ADF Statistic: -8.272940\n",
      "p-value: 0.000000\n",
      "Critical Values:\n",
      "\t1%: -3.444\n",
      "\t5%: -2.868\n",
      "\t10%: -2.570\n",
      "ADF Statistic: -8.332617\n",
      "p-value: 0.000000\n",
      "Critical Values:\n",
      "\t1%: -3.444\n",
      "\t5%: -2.868\n",
      "\t10%: -2.570\n"
     ]
    }
   ],
   "source": [
    "for i in names:\n",
    "    print_adfuller(datas[i])"
   ]
  }
 ],
 "metadata": {
  "kernelspec": {
   "display_name": "Python 3",
   "language": "python",
   "name": "python3"
  },
  "language_info": {
   "codemirror_mode": {
    "name": "ipython",
    "version": 3
   },
   "file_extension": ".py",
   "mimetype": "text/x-python",
   "name": "python",
   "nbconvert_exporter": "python",
   "pygments_lexer": "ipython3",
   "version": "3.8.3"
  }
 },
 "nbformat": 4,
 "nbformat_minor": 4
}
