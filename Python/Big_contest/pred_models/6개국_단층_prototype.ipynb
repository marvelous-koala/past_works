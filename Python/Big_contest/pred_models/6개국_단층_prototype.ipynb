{
 "cells": [
  {
   "cell_type": "raw",
   "metadata": {},
   "source": [
    "6개국의 신종플루, 사스 자료를 넣어서 2020 한국 코로나 확진자를 얼마나 잘 예측하는지 확인해보기 위해 제작하였음"
   ]
  },
  {
   "cell_type": "code",
   "execution_count": 1,
   "metadata": {},
   "outputs": [],
   "source": [
    "import pandas as pd\n",
    "from pandas import Series, DataFrame\n",
    "import numpy as np\n",
    "import matplotlib.pyplot as plt\n",
    "%matplotlib inline\n",
    "plt.rc('font', family='NanumGothic')\n",
    "plt.rcParams[\"font.size\"] = 12\n",
    "plt.rcParams[\"font.family\"] = 'NanumGothic'\n",
    "plt.rcParams['xtick.labelsize'] = 12.\n",
    "plt.rcParams['ytick.labelsize'] = 12.\n",
    "from datetime import datetime\n",
    "from datetime import timedelta\n",
    "from pandas import Series, DataFrame\n",
    "import scipy.stats\n",
    "\n",
    "import matplotlib.pyplot as plt\n",
    "import math\n",
    "from keras.models import Sequential\n",
    "from keras.layers import Dense\n",
    "from keras.layers import LSTM\n",
    "from sklearn.preprocessing import MinMaxScaler\n",
    "from sklearn.metrics import mean_squared_error\n",
    "from keras.layers.core import Dense, Activation, Dropout\n",
    "import time #helper libraries"
   ]
  },
  {
   "cell_type": "code",
   "execution_count": 2,
   "metadata": {
    "scrolled": true
   },
   "outputs": [],
   "source": [
    "kor = pd.read_excel('./kor.xlsx', sheet_name='Sheet1')\n",
    "ger = pd.read_excel('./german.xlsx', sheet_name='Sheet1')"
   ]
  },
  {
   "cell_type": "code",
   "execution_count": 3,
   "metadata": {},
   "outputs": [],
   "source": [
    "kor_df = kor.set_index('id').copy()\n",
    "ger_df = ger.set_index('id').copy()\n",
    "#ita_df = ita.set_index('id').copy()\n",
    "#usa_df = usa.set_index('id').copy()\n",
    "#mex_df = mex.set_index('id').copy()\n",
    "#uk_df = uk.set_index('id').copy()\n",
    "\n",
    "\n",
    "#sgp_sars_df = pd.DataFrame(sgp_sars.신규확진.copy())\n",
    "#hk_sars_df = pd.DataFrame(hk_sars.신규확진.copy())\n",
    "#kor_mers_df = pd.DataFrame(kor_mers.신규확진.copy())"
   ]
  },
  {
   "cell_type": "code",
   "execution_count": 4,
   "metadata": {},
   "outputs": [],
   "source": [
    "corona = pd.read_excel('./data.xlsx', sheet_name= 'data')"
   ]
  },
  {
   "cell_type": "code",
   "execution_count": 5,
   "metadata": {},
   "outputs": [],
   "source": [
    "corona_df = pd.DataFrame(corona.new_cases.copy())"
   ]
  },
  {
   "cell_type": "code",
   "execution_count": 6,
   "metadata": {
    "scrolled": true
   },
   "outputs": [
    {
     "data": {
      "text/html": [
       "<div>\n",
       "<style scoped>\n",
       "    .dataframe tbody tr th:only-of-type {\n",
       "        vertical-align: middle;\n",
       "    }\n",
       "\n",
       "    .dataframe tbody tr th {\n",
       "        vertical-align: top;\n",
       "    }\n",
       "\n",
       "    .dataframe thead th {\n",
       "        text-align: right;\n",
       "    }\n",
       "</style>\n",
       "<table border=\"1\" class=\"dataframe\">\n",
       "  <thead>\n",
       "    <tr style=\"text-align: right;\">\n",
       "      <th></th>\n",
       "      <th>new_cases</th>\n",
       "    </tr>\n",
       "  </thead>\n",
       "  <tbody>\n",
       "    <tr>\n",
       "      <th>0</th>\n",
       "      <td>0</td>\n",
       "    </tr>\n",
       "    <tr>\n",
       "      <th>1</th>\n",
       "      <td>0</td>\n",
       "    </tr>\n",
       "    <tr>\n",
       "      <th>2</th>\n",
       "      <td>0</td>\n",
       "    </tr>\n",
       "    <tr>\n",
       "      <th>3</th>\n",
       "      <td>0</td>\n",
       "    </tr>\n",
       "    <tr>\n",
       "      <th>4</th>\n",
       "      <td>0</td>\n",
       "    </tr>\n",
       "    <tr>\n",
       "      <th>...</th>\n",
       "      <td>...</td>\n",
       "    </tr>\n",
       "    <tr>\n",
       "      <th>241</th>\n",
       "      <td>299</td>\n",
       "    </tr>\n",
       "    <tr>\n",
       "      <th>242</th>\n",
       "      <td>248</td>\n",
       "    </tr>\n",
       "    <tr>\n",
       "      <th>243</th>\n",
       "      <td>235</td>\n",
       "    </tr>\n",
       "    <tr>\n",
       "      <th>244</th>\n",
       "      <td>267</td>\n",
       "    </tr>\n",
       "    <tr>\n",
       "      <th>245</th>\n",
       "      <td>195</td>\n",
       "    </tr>\n",
       "  </tbody>\n",
       "</table>\n",
       "<p>246 rows × 1 columns</p>\n",
       "</div>"
      ],
      "text/plain": [
       "     new_cases\n",
       "0            0\n",
       "1            0\n",
       "2            0\n",
       "3            0\n",
       "4            0\n",
       "..         ...\n",
       "241        299\n",
       "242        248\n",
       "243        235\n",
       "244        267\n",
       "245        195\n",
       "\n",
       "[246 rows x 1 columns]"
      ]
     },
     "execution_count": 6,
     "metadata": {},
     "output_type": "execute_result"
    }
   ],
   "source": [
    "corona_df"
   ]
  },
  {
   "cell_type": "code",
   "execution_count": 7,
   "metadata": {},
   "outputs": [],
   "source": [
    "kor_val = kor_df.cases.values\n",
    "ger_val = ger_df.cases.values\n",
    "#ita_val = ita_df.cases.values\n",
    "#usa_val = usa_df.cases.values\n",
    "#mex_val = mex_df.cases.values\n",
    "#uk_val = uk_df.cases.values\n",
    "\n",
    "\n",
    "#sgp_val = sgp_sars_df.신규확진.values\n",
    "#hk_sars_val = hk_sars_df.신규확진.values\n",
    "#kor_mers_val = kor_mers_df.신규확진.values"
   ]
  },
  {
   "cell_type": "code",
   "execution_count": 8,
   "metadata": {},
   "outputs": [],
   "source": [
    "corona_val = corona_df.new_cases.values"
   ]
  },
  {
   "cell_type": "code",
   "execution_count": 9,
   "metadata": {},
   "outputs": [
    {
     "data": {
      "text/plain": [
       "array([  0,   0,   0,   0,   0,   0,   0,   0,   0,   0,   0,   0,   0,\n",
       "         0,   0,   0,   0,   0,   0,   1,   0,   0,   0,   1,   0,   1,\n",
       "         1,   0,   0,   0,   3,   5,   3,   0,   1,   2,   5,   1,   0,\n",
       "         1,   2,   1,   0,   0,   0,   0,   1,   1,   1,  15,  34,  75,\n",
       "       190, 210, 207, 130, 254, 449, 427, 909, 595, 686, 600, 516, 438,\n",
       "       518, 483, 367, 248, 131, 242, 114, 110, 107,  76,  74,  84,  93,\n",
       "       152,  87, 147,  98,  64,  76, 100, 104,  91, 146, 105,  78, 125,\n",
       "       101,  89,  86,  94,  81,  47,  47,  53,  39,  27,  30,  32,  25,\n",
       "        27,  27,  22,  22,  18,   8,  13,   9,  11,   8,   6,  10,  10,\n",
       "        10,  14,   9,   4,   9,   6,  13,   8,   3,   2,   4,  12,  18,\n",
       "        34,  35,  27,  26,  29,  27,  19,  13,  15,  13,  32,  12,  20,\n",
       "        23,  25,  16,  19,  40,  79,  58,  39,  27,  38,  49,  39,  20,\n",
       "        19,  51,  57,  38,  38,  50,  45,  56,  48,  34,  36,  34,  43,\n",
       "        59,  49,  67,  48,  17,  46,  51,  28,  39,  51,  62,  42,  43,\n",
       "        50,  54,  63,  63,  61,  46,  44,  63,  49,  45,  35,  44,  62,\n",
       "        33,  39,  61,  60,  39,  34,  26,  45,  63,  59,  41, 113,  58,\n",
       "        25,  28,  66,  36,  31,  30,  23,  34,  33,  43,  20,  43,  36,\n",
       "        28,  34,  54,  56, 104, 165, 279, 197, 246, 297, 288, 324, 332,\n",
       "       397, 266, 280, 320, 441, 371, 323, 299, 248, 235, 267, 195],\n",
       "      dtype=int64)"
      ]
     },
     "execution_count": 9,
     "metadata": {},
     "output_type": "execute_result"
    }
   ],
   "source": [
    "corona_val"
   ]
  },
  {
   "cell_type": "code",
   "execution_count": 10,
   "metadata": {},
   "outputs": [],
   "source": [
    "kor_data = kor_val.reshape(-1,1)\n",
    "ger_data = ger_val.reshape(-1,1)\n",
    "#ita_data = ita_val.reshape(-1,1)\n",
    "#usa_data = usa_val.reshape(-1,1)\n",
    "#mex_data = mex_val.reshape(-1,1)\n",
    "#uk_data = uk_val.reshape(-1,1)\n",
    "\n",
    "#sgp_data = sgp_val.reshape(-1,1)\n",
    "#hk_sars_data = hk_sars_val.reshape(-1,1)\n",
    "#kor_mers_data = kor_mers_val.reshape(-1,1)"
   ]
  },
  {
   "cell_type": "code",
   "execution_count": 11,
   "metadata": {},
   "outputs": [],
   "source": [
    "corona_data = corona_val.reshape(-1,1)"
   ]
  },
  {
   "cell_type": "code",
   "execution_count": 12,
   "metadata": {},
   "outputs": [],
   "source": [
    "scaler = MinMaxScaler(feature_range=(0, 1))\n",
    "kor_dataset = scaler.fit_transform(kor_data)\n",
    "ger_dataset = scaler.fit_transform(ger_data)\n",
    "#ita_dataset = scaler.fit_transform(ita_data)\n",
    "#usa_dataset = scaler.fit_transform(usa_data)\n",
    "#mex_dataset = scaler.fit_transform(mex_data)\n",
    "#uk_dataset = scaler.fit_transform(uk_data)\n",
    "\n",
    "corona_dataset = scaler.fit_transform(corona_data)\n",
    "\n",
    "#sgp_dataset = scaler.fit_transform(sgp_data)\n",
    "#hk_sars_dataset = scaler.fit_transform(hk_sars_data)\n",
    "#kor_mers_dataset = scaler.fit_transform(kor_mers_data)"
   ]
  },
  {
   "cell_type": "code",
   "execution_count": 13,
   "metadata": {},
   "outputs": [],
   "source": [
    "look_back = 1\n",
    "\n",
    "def create_dataset(dataset, look_back=3):\n",
    "    dataX, dataY = [], []\n",
    "    for i in range(len(dataset)-look_back-1):\n",
    "        a = dataset[i:(i+look_back), 0]\n",
    "        dataX.append(a)\n",
    "        dataY.append(dataset[i + look_back, 0])\n",
    "    return np.array(dataX), np.array(dataY)"
   ]
  },
  {
   "cell_type": "code",
   "execution_count": 14,
   "metadata": {},
   "outputs": [],
   "source": [
    "# 독일 데이터도 학습\n",
    "\n",
    "train_dataset = ger_dataset\n",
    "trainX, trainY = create_dataset(ger_dataset, look_back)"
   ]
  },
  {
   "cell_type": "code",
   "execution_count": 15,
   "metadata": {},
   "outputs": [],
   "source": [
    "test_dataset = corona_dataset\n",
    "testX, testY = create_dataset(corona_dataset, look_back)"
   ]
  },
  {
   "cell_type": "code",
   "execution_count": 16,
   "metadata": {},
   "outputs": [],
   "source": [
    "trainX = np.reshape(trainX, (trainX.shape[0],trainX.shape[1], 1))\n",
    "testX = np.reshape(testX, (testX.shape[0],testX.shape[1], 1))"
   ]
  },
  {
   "cell_type": "code",
   "execution_count": 17,
   "metadata": {},
   "outputs": [
    {
     "data": {
      "text/plain": [
       "<tensorflow.python.keras.callbacks.History at 0x18422ec0e50>"
      ]
     },
     "execution_count": 17,
     "metadata": {},
     "output_type": "execute_result"
    }
   ],
   "source": [
    "\n",
    "model = Sequential()\n",
    "model.add(LSTM(32, input_shape=(look_back, 1)))\n",
    "model.add(Dropout(0.1))\n",
    "model.add(Dense(1))\n",
    "model.compile(loss='mse', optimizer='adam')\n",
    "model.fit(trainX, trainY, epochs=1000, batch_size=240, verbose=0)"
   ]
  },
  {
   "cell_type": "code",
   "execution_count": 18,
   "metadata": {
    "scrolled": true
   },
   "outputs": [],
   "source": [
    "trainPredict = model.predict(trainX)\n",
    "testPredict = model.predict(testX)\n",
    "\n",
    "\n",
    "trainPredict_rescale = scaler.inverse_transform(trainPredict)\n",
    "trainY_rescale = scaler.inverse_transform([trainY])\n",
    "testPredict_rescale = scaler.inverse_transform(testPredict)\n",
    "testY_rescale = scaler.inverse_transform([testY])\n",
    "    \n",
    "    \n",
    "trainScore = math.sqrt(mean_squared_error(trainY_rescale[0], trainPredict_rescale[:,0]))\n",
    "testScore = math.sqrt(mean_squared_error(testY_rescale[0], testPredict_rescale[:,0]))\n",
    "\n",
    "    \n",
    "trainPredictPlot = np.empty_like(train_dataset)\n",
    "trainPredictPlot[:, :] = np.nan\n",
    "trainPredictPlot[look_back:len(trainPredict_rescale)+look_back, :] = trainPredict_rescale\n",
    "    \n",
    "testPredictPlot = np.empty_like(test_dataset)\n",
    "testPredictPlot[:, :] = np.nan\n",
    "testPredictPlot[look_back:len(testPredict_rescale)+look_back, :] = testPredict_rescale"
   ]
  },
  {
   "cell_type": "code",
   "execution_count": 19,
   "metadata": {},
   "outputs": [
    {
     "name": "stdout",
     "output_type": "stream",
     "text": [
      "50.201346867857566\n"
     ]
    }
   ],
   "source": [
    "print(testScore)"
   ]
  },
  {
   "cell_type": "code",
   "execution_count": 20,
   "metadata": {},
   "outputs": [
    {
     "data": {
      "image/png": "[encoded data removed]",
      "text/plain": [
       "<Figure size 864x432 with 1 Axes>"
      ]
     },
     "metadata": {
      "needs_background": "light"
     },
     "output_type": "display_data"
    }
   ],
   "source": [
    "ori_to_show = testY.reshape(-1,1)\n",
    "prd_to_show = testPredict\n",
    "\n",
    "plt.figure(figsize=(12, 6))\n",
    "plt.plot(ori_to_show, label = '원래값')\n",
    "plt.plot(prd_to_show, label = '예측값')\n",
    "plt.legend(loc = 'best')\n",
    "plt.show()"
   ]
  },
  {
   "cell_type": "code",
   "execution_count": 21,
   "metadata": {},
   "outputs": [
    {
     "ename": "NameError",
     "evalue": "name 'ita_dataset' is not defined",
     "output_type": "error",
     "traceback": [
      "\u001b[1;31m---------------------------------------------------------------------------\u001b[0m",
      "\u001b[1;31mNameError\u001b[0m                                 Traceback (most recent call last)",
      "\u001b[1;32m<ipython-input-21-8205c7a4f07d>\u001b[0m in \u001b[0;36m<module>\u001b[1;34m\u001b[0m\n\u001b[0;32m      2\u001b[0m \u001b[1;33m\u001b[0m\u001b[0m\n\u001b[0;32m      3\u001b[0m \u001b[1;33m\u001b[0m\u001b[0m\n\u001b[1;32m----> 4\u001b[1;33m \u001b[0mtrain_dataset\u001b[0m \u001b[1;33m=\u001b[0m \u001b[0mita_dataset\u001b[0m\u001b[1;33m\u001b[0m\u001b[1;33m\u001b[0m\u001b[0m\n\u001b[0m\u001b[0;32m      5\u001b[0m \u001b[0mtrainX\u001b[0m\u001b[1;33m,\u001b[0m \u001b[0mtrainY\u001b[0m \u001b[1;33m=\u001b[0m \u001b[0mcreate_dataset\u001b[0m\u001b[1;33m(\u001b[0m\u001b[0mger_dataset\u001b[0m\u001b[1;33m,\u001b[0m \u001b[0mlook_back\u001b[0m\u001b[1;33m)\u001b[0m\u001b[1;33m\u001b[0m\u001b[1;33m\u001b[0m\u001b[0m\n",
      "\u001b[1;31mNameError\u001b[0m: name 'ita_dataset' is not defined"
     ]
    }
   ],
   "source": [
    "# 이탈리아 데이터 학습\n",
    "\n",
    "\n",
    "train_dataset = ita_dataset\n",
    "trainX, trainY = create_dataset(ger_dataset, look_back)"
   ]
  },
  {
   "cell_type": "code",
   "execution_count": null,
   "metadata": {},
   "outputs": [],
   "source": [
    "trainX = np.reshape(trainX, (trainX.shape[0],trainX.shape[1], 1))\n",
    "testX = np.reshape(testX, (testX.shape[0],testX.shape[1], 1))"
   ]
  },
  {
   "cell_type": "code",
   "execution_count": null,
   "metadata": {},
   "outputs": [],
   "source": [
    "model.fit(trainX, trainY, epochs=1000, batch_size=240, verbose=0)"
   ]
  },
  {
   "cell_type": "code",
   "execution_count": null,
   "metadata": {},
   "outputs": [],
   "source": [
    "trainPredict = model.predict(trainX)\n",
    "testPredict = model.predict(testX)\n",
    "\n",
    "\n",
    "trainPredict_rescale = scaler.inverse_transform(trainPredict)\n",
    "trainY_rescale = scaler.inverse_transform([trainY])\n",
    "testPredict_rescale = scaler.inverse_transform(testPredict)\n",
    "testY_rescale = scaler.inverse_transform([testY])\n",
    "    \n",
    "    \n",
    "trainScore = math.sqrt(mean_squared_error(trainY_rescale[0], trainPredict_rescale[:,0]))\n",
    "testScore = math.sqrt(mean_squared_error(testY_rescale[0], testPredict_rescale[:,0]))\n",
    "\n",
    "    \n",
    "trainPredictPlot = np.empty_like(train_dataset)\n",
    "trainPredictPlot[:, :] = np.nan\n",
    "trainPredictPlot[look_back:len(trainPredict_rescale)+look_back, :] = trainPredict_rescale\n",
    "    \n",
    "testPredictPlot = np.empty_like(test_dataset)\n",
    "testPredictPlot[:, :] = np.nan\n",
    "testPredictPlot[look_back:len(testPredict_rescale)+look_back, :] = testPredict_rescale"
   ]
  },
  {
   "cell_type": "code",
   "execution_count": null,
   "metadata": {},
   "outputs": [],
   "source": [
    "# 미국 데이터 학습\n",
    "\n",
    "train_dataset = usa_dataset\n",
    "trainX, trainY = create_dataset(ger_dataset, look_back)\n",
    "\n",
    "trainX = np.reshape(trainX, (trainX.shape[0],trainX.shape[1], 1))\n",
    "\n",
    "model.fit(trainX, trainY, epochs=1000, batch_size=240, verbose=0)\n",
    "\n",
    "testPredict = model.predict(testX)\n",
    "\n",
    "testPredict = scaler.inverse_transform(testPredict)\n",
    "\n",
    "testScore = math.sqrt(mean_squared_error(testY[0], testPredict[:,0]))\n",
    "print(testScore)"
   ]
  },
  {
   "cell_type": "code",
   "execution_count": null,
   "metadata": {},
   "outputs": [],
   "source": [
    "# 멕시코 데이터 학습\n",
    "\n",
    "train_dataset = mex_dataset\n",
    "trainX, trainY = create_dataset(ger_dataset, look_back)\n",
    "\n",
    "trainX = np.reshape(trainX, (trainX.shape[0],trainX.shape[1], 1))\n",
    "\n",
    "model.fit(trainX, trainY, epochs=1000, batch_size=240, verbose=0)\n",
    "\n",
    "testPredict = model.predict(testX)\n",
    "\n",
    "testPredict = scaler.inverse_transform(testPredict)\n",
    "\n",
    "testScore = math.sqrt(mean_squared_error(testY[0], testPredict[:,0]))\n",
    "print(testScore)"
   ]
  },
  {
   "cell_type": "code",
   "execution_count": null,
   "metadata": {},
   "outputs": [],
   "source": [
    "# 영국 데이터 학습\n",
    "\n",
    "train_dataset = uk_dataset\n",
    "trainX, trainY = create_dataset(ger_dataset, look_back)\n",
    "\n",
    "trainX = np.reshape(trainX, (trainX.shape[0],trainX.shape[1], 1))\n",
    "\n",
    "model.fit(trainX, trainY, epochs=1000, batch_size=240, verbose=0)\n",
    "\n",
    "testPredict = model.predict(testX)\n",
    "\n",
    "testPredict = scaler.inverse_transform(testPredict)\n",
    "\n",
    "testScore = math.sqrt(mean_squared_error(testY[0], testPredict[:,0]))\n",
    "print(testScore)"
   ]
  },
  {
   "cell_type": "code",
   "execution_count": null,
   "metadata": {},
   "outputs": [],
   "source": [
    "testPredictPlot = np.empty_like(test_dataset)\n",
    "testPredictPlot[:, :] = np.nan\n",
    "testPredictPlot[look_back:len(testPredict)+look_back, :] = testPredict"
   ]
  },
  {
   "cell_type": "code",
   "execution_count": null,
   "metadata": {
    "scrolled": true
   },
   "outputs": [],
   "source": [
    "plt.figure(figsize=(12, 6))\n",
    "plt.plot(scaler.inverse_transform(test_dataset), label = '원래값')\n",
    "plt.plot(testPredictPlot, label = '예측값')\n",
    "plt.legend(loc = 'best')\n",
    "plt.show()"
   ]
  },
  {
   "cell_type": "code",
   "execution_count": null,
   "metadata": {
    "scrolled": true
   },
   "outputs": [],
   "source": [
    "trainPredict = model.predict(trainX)\n",
    "testPredict = model.predict(testX)\n",
    "    \n",
    "trainPredict = scaler.inverse_transform(trainPredict)\n",
    "trainY = scaler.inverse_transform([trainY])\n",
    "testPredict = scaler.inverse_transform(testPredict)\n",
    "testY = scaler.inverse_transform([testY])\n",
    "    \n",
    "    \n",
    "trainScore = math.sqrt(mean_squared_error(trainY[0], trainPredict[:,0]))\n",
    "testScore = math.sqrt(mean_squared_error(testY[0], testPredict[:,0]))\n",
    "    \n",
    "trainPredictPlot = np.empty_like(train_dataset)\n",
    "trainPredictPlot[:, :] = np.nan\n",
    "trainPredictPlot[look_back:len(trainPredict)+look_back, :] = trainPredict\n",
    "    \n",
    "testPredictPlot = np.empty_like(test_dataset)\n",
    "testPredictPlot[:, :] = np.nan\n",
    "testPredictPlot[look_back:len(testPredict)+look_back, :] = testPredict"
   ]
  },
  {
   "cell_type": "code",
   "execution_count": null,
   "metadata": {
    "scrolled": true
   },
   "outputs": [],
   "source": [
    "print(trainScore)\n",
    "print(testScore)"
   ]
  },
  {
   "cell_type": "code",
   "execution_count": null,
   "metadata": {},
   "outputs": [],
   "source": [
    "train_dataset = kor_dataset\n",
    "test_dataset = corona_dataset"
   ]
  },
  {
   "cell_type": "code",
   "execution_count": null,
   "metadata": {},
   "outputs": [],
   "source": [
    "look_back = 1\n",
    "trainX, trainY = create_dataset(kor_dataset, look_back)\n",
    "testX, testY = create_dataset(corona_dataset, look_back)"
   ]
  },
  {
   "cell_type": "code",
   "execution_count": null,
   "metadata": {},
   "outputs": [],
   "source": [
    "# 학습 데이터 한국\n",
    "\n",
    "plt.figure(figsize=(12, 6))\n",
    "plt.plot(scaler.inverse_transform(test_dataset), label = '원래값')\n",
    "plt.plot(testPredictPlot, label = '예측값')\n",
    "plt.legend(loc = 'best')\n",
    "plt.show()"
   ]
  },
  {
   "cell_type": "code",
   "execution_count": null,
   "metadata": {},
   "outputs": [],
   "source": [
    "testX"
   ]
  },
  {
   "cell_type": "code",
   "execution_count": null,
   "metadata": {},
   "outputs": [],
   "source": [
    "testPredictPlot"
   ]
  },
  {
   "cell_type": "code",
   "execution_count": null,
   "metadata": {},
   "outputs": [],
   "source": [
    "cor_predict = pd.DataFrame(testPredictPlot)"
   ]
  }
 ],
 "metadata": {
  "kernelspec": {
   "display_name": "Python 3",
   "language": "python",
   "name": "python3"
  },
  "language_info": {
   "codemirror_mode": {
    "name": "ipython",
    "version": 3
   },
   "file_extension": ".py",
   "mimetype": "text/x-python",
   "name": "python",
   "nbconvert_exporter": "python",
   "pygments_lexer": "ipython3",
   "version": "3.8.3"
  }
 },
 "nbformat": 4,
 "nbformat_minor": 4
}
